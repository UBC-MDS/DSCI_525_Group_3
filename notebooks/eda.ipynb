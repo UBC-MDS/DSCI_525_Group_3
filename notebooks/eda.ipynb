{
 "cells": [
  {
   "cell_type": "markdown",
   "id": "435e78ce-d38b-45ea-b0a0-69a221849c5e",
   "metadata": {},
   "source": [
    "## Loading packages"
   ]
  },
  {
   "cell_type": "code",
   "execution_count": 1,
   "id": "6f94541f-ab47-440a-b69f-1438ba047de4",
   "metadata": {},
   "outputs": [],
   "source": [
    "import re\n",
    "import os\n",
    "import glob\n",
    "import zipfile\n",
    "import requests\n",
    "from urllib.request import urlretrieve\n",
    "import json\n",
    "import pandas as pd"
   ]
  },
  {
   "cell_type": "markdown",
   "id": "710bcd4f-edd5-44ce-b784-fba9b3719526",
   "metadata": {},
   "source": [
    "## Downloading data"
   ]
  },
  {
   "cell_type": "code",
   "execution_count": 2,
   "id": "430797a1-3d83-4372-b11f-b357b2438d59",
   "metadata": {},
   "outputs": [],
   "source": [
    "# Necessary metadata\n",
    "article_id = 14096681  # this is the unique identifier of the article on figshare\n",
    "url = f\"https://api.figshare.com/v2/articles/{article_id}\"\n",
    "headers = {\"Content-Type\": \"application/json\"}\n",
    "output_directory = \"dailyrainfall/\""
   ]
  },
  {
   "cell_type": "code",
   "execution_count": 3,
   "id": "d2b94c5d-85b1-4584-8421-76bffd3379f9",
   "metadata": {},
   "outputs": [
    {
     "data": {
      "text/plain": [
       "[{'id': 26579150,\n",
       "  'name': 'daily_rainfall_2014.png',\n",
       "  'size': 58863,\n",
       "  'is_link_only': False,\n",
       "  'download_url': 'https://ndownloader.figshare.com/files/26579150',\n",
       "  'supplied_md5': 'fd32a2ffde300a31f8d63b1825d47e5e',\n",
       "  'computed_md5': 'fd32a2ffde300a31f8d63b1825d47e5e'},\n",
       " {'id': 26579171,\n",
       "  'name': 'environment.yml',\n",
       "  'size': 192,\n",
       "  'is_link_only': False,\n",
       "  'download_url': 'https://ndownloader.figshare.com/files/26579171',\n",
       "  'supplied_md5': '060b2020017eed93a1ee7dd8c65b2f34',\n",
       "  'computed_md5': '060b2020017eed93a1ee7dd8c65b2f34'},\n",
       " {'id': 26586554,\n",
       "  'name': 'README.md',\n",
       "  'size': 5422,\n",
       "  'is_link_only': False,\n",
       "  'download_url': 'https://ndownloader.figshare.com/files/26586554',\n",
       "  'supplied_md5': '61858c6cc0e6a6d6663a7e4c75bbd88c',\n",
       "  'computed_md5': '61858c6cc0e6a6d6663a7e4c75bbd88c'},\n",
       " {'id': 26766812,\n",
       "  'name': 'data.zip',\n",
       "  'size': 814041183,\n",
       "  'is_link_only': False,\n",
       "  'download_url': 'https://ndownloader.figshare.com/files/26766812',\n",
       "  'supplied_md5': 'b517383f76e77bd03755a63a8ff83ee9',\n",
       "  'computed_md5': 'b517383f76e77bd03755a63a8ff83ee9'},\n",
       " {'id': 26766815,\n",
       "  'name': 'get_data.py',\n",
       "  'size': 4113,\n",
       "  'is_link_only': False,\n",
       "  'download_url': 'https://ndownloader.figshare.com/files/26766815',\n",
       "  'supplied_md5': '7829028495fd9dec9680ea013474afa6',\n",
       "  'computed_md5': '7829028495fd9dec9680ea013474afa6'}]"
      ]
     },
     "execution_count": 3,
     "metadata": {},
     "output_type": "execute_result"
    }
   ],
   "source": [
    "response = requests.request(\"GET\", url, headers=headers)\n",
    "data = json.loads(response.text)  # this contains all the articles data, feel free to check it out\n",
    "files = data[\"files\"]             # this is just the data about the files, which is what we want\n",
    "files"
   ]
  },
  {
   "cell_type": "code",
   "execution_count": 4,
   "id": "16b42f2c-a24b-4092-bc18-e0a2a5ced1a7",
   "metadata": {},
   "outputs": [
    {
     "name": "stdout",
     "output_type": "stream",
     "text": [
      "CPU times: user 3.63 s, sys: 4.52 s, total: 8.15 s\n",
      "Wall time: 1min 39s\n"
     ]
    }
   ],
   "source": [
    "%%time\n",
    "files_to_dl = [\"data.zip\"]  # feel free to add other files here\n",
    "for file in files:\n",
    "    if file[\"name\"] in files_to_dl:\n",
    "        os.makedirs(output_directory, exist_ok=True)\n",
    "        urlretrieve(file[\"download_url\"], output_directory + file[\"name\"])"
   ]
  },
  {
   "cell_type": "markdown",
   "id": "d4dd4fea-a888-46b4-9b8a-3e33dcb24f74",
   "metadata": {},
   "source": [
    "### Extracting ZIP"
   ]
  },
  {
   "cell_type": "code",
   "execution_count": 5,
   "id": "ed626402-85ff-403c-9d7f-4531fff81674",
   "metadata": {},
   "outputs": [
    {
     "name": "stdout",
     "output_type": "stream",
     "text": [
      "CPU times: user 14.5 s, sys: 1.91 s, total: 16.4 s\n",
      "Wall time: 16.6 s\n"
     ]
    }
   ],
   "source": [
    "%%time\n",
    "with zipfile.ZipFile(os.path.join(output_directory, \"data.zip\"), 'r') as f:\n",
    "    f.extractall(output_directory)"
   ]
  },
  {
   "cell_type": "code",
   "execution_count": 6,
   "id": "c27e4b1c-0d24-4bd5-8c9a-d0aad6f6f9d9",
   "metadata": {},
   "outputs": [
    {
     "name": "stdout",
     "output_type": "stream",
     "text": [
      "total 12428672\n",
      "drwxr-xr-x  30 apple  staff        960 Mar 28 16:48 \u001b[1m\u001b[34m__MACOSX\u001b[m\u001b[m/\n",
      "-rw-r--r--   1 apple  staff  814041183 Mar 28 16:51 data.zip\n",
      "-rw-r--r--   1 apple  staff   95376895 Mar 28 16:51 MPI-ESM-1-2-HAM_daily_rainfall_NSW.csv\n",
      "-rw-r--r--   1 apple  staff   94960113 Mar 28 16:51 AWI-ESM-1-1-LR_daily_rainfall_NSW.csv\n",
      "-rw-r--r--   1 apple  staff   82474546 Mar 28 16:51 NorESM2-LM_daily_rainfall_NSW.csv\n",
      "-rw-r--r--   1 apple  staff  127613760 Mar 28 16:51 ACCESS-CM2_daily_rainfall_NSW.csv\n",
      "-rw-r--r--   1 apple  staff  232118894 Mar 28 16:51 FGOALS-f3-L_daily_rainfall_NSW.csv\n",
      "-rw-r--r--   1 apple  staff  330360682 Mar 28 16:51 CMCC-CM2-HR4_daily_rainfall_NSW.csv\n",
      "-rw-r--r--   1 apple  staff  254009247 Mar 28 16:51 MRI-ESM2-0_daily_rainfall_NSW.csv\n",
      "-rw-r--r--   1 apple  staff  235661418 Mar 28 16:51 GFDL-CM4_daily_rainfall_NSW.csv\n",
      "-rw-r--r--   1 apple  staff  294260911 Mar 28 16:51 BCC-CSM2-MR_daily_rainfall_NSW.csv\n",
      "-rw-r--r--   1 apple  staff  295768615 Mar 28 16:51 EC-Earth3-Veg-LR_daily_rainfall_NSW.csv\n",
      "-rw-r--r--   1 apple  staff  328852379 Mar 28 16:51 CMCC-ESM2_daily_rainfall_NSW.csv\n",
      "-rw-r--r--   1 apple  staff   67784105 Mar 28 16:51 NESM3_daily_rainfall_NSW.csv\n",
      "-rw-r--r--   1 apple  staff   95640682 Mar 28 16:51 MPI-ESM1-2-LR_daily_rainfall_NSW.csv\n",
      "-rw-r--r--   1 apple  staff  114707410 Mar 28 16:51 ACCESS-ESM1-5_daily_rainfall_NSW.csv\n",
      "-rw-r--r--   1 apple  staff  116179272 Mar 28 16:51 FGOALS-g3_daily_rainfall_NSW.csv\n",
      "-rw-r--r--   1 apple  staff  102517965 Mar 28 16:51 INM-CM4-8_daily_rainfall_NSW.csv\n",
      "-rw-r--r--   1 apple  staff  515458033 Mar 28 16:51 MPI-ESM1-2-HR_daily_rainfall_NSW.csv\n",
      "-rw-r--r--   1 apple  staff  332813281 Mar 28 16:51 TaiESM1_daily_rainfall_NSW.csv\n",
      "-rw-r--r--   1 apple  staff  337555851 Mar 28 16:51 NorESM2-MM_daily_rainfall_NSW.csv\n",
      "-rw-r--r--   1 apple  staff  328787320 Mar 28 16:51 CMCC-CM2-SR5_daily_rainfall_NSW.csv\n",
      "-rw-r--r--   1 apple  staff     952202 Mar 28 16:51 observed_daily_rainfall_SYD.csv\n",
      "-rw-r--r--   1 apple  staff   93829697 Mar 28 16:51 KIOST-ESM_daily_rainfall_NSW.csv\n",
      "-rw-r--r--   1 apple  staff  102692289 Mar 28 16:51 INM-CM5-0_daily_rainfall_NSW.csv\n",
      "-rw-r--r--   1 apple  staff  206822938 Mar 28 16:51 MIROC6_daily_rainfall_NSW.csv\n",
      "-rw-r--r--   1 apple  staff   55224437 Mar 28 16:51 BCC-ESM1_daily_rainfall_NSW.csv\n",
      "-rw-r--r--   1 apple  staff  124586961 Mar 28 16:51 GFDL-ESM4_daily_rainfall_NSW.csv\n",
      "-rw-r--r--   1 apple  staff   46286371 Mar 28 16:51 CanESM5_daily_rainfall_NSW.csv\n",
      "-rw-r--r--   1 apple  staff  333489879 Mar 28 16:51 SAM0-UNICON_daily_rainfall_NSW.csv\n"
     ]
    }
   ],
   "source": [
    "%ls -ltr dailyrainfall/"
   ]
  },
  {
   "cell_type": "code",
   "execution_count": null,
   "id": "07a3d665-3c0d-4c18-8982-ab496a9976f8",
   "metadata": {},
   "outputs": [],
   "source": []
  }
 ],
 "metadata": {
  "kernelspec": {
   "display_name": "Python [conda env:525_2022]",
   "language": "python",
   "name": "conda-env-525_2022-py"
  },
  "language_info": {
   "codemirror_mode": {
    "name": "ipython",
    "version": 3
   },
   "file_extension": ".py",
   "mimetype": "text/x-python",
   "name": "python",
   "nbconvert_exporter": "python",
   "pygments_lexer": "ipython3",
   "version": "3.8.6"
  }
 },
 "nbformat": 4,
 "nbformat_minor": 5
}
