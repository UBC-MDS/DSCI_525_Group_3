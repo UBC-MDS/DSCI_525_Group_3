{
 "cells": [
  {
   "cell_type": "markdown",
   "id": "435e78ce-d38b-45ea-b0a0-69a221849c5e",
   "metadata": {},
   "source": [
    "## Loading packages"
   ]
  },
  {
   "cell_type": "code",
   "execution_count": 1,
   "id": "6f94541f-ab47-440a-b69f-1438ba047de4",
   "metadata": {},
   "outputs": [],
   "source": [
    "import re\n",
    "import os\n",
    "import glob\n",
    "import zipfile\n",
    "import requests\n",
    "from urllib.request import urlretrieve\n",
    "import json\n",
    "import pandas as pd"
   ]
  },
  {
   "cell_type": "markdown",
   "id": "710bcd4f-edd5-44ce-b784-fba9b3719526",
   "metadata": {},
   "source": [
    "## Downloading data"
   ]
  },
  {
   "cell_type": "code",
   "execution_count": 2,
   "id": "430797a1-3d83-4372-b11f-b357b2438d59",
   "metadata": {},
   "outputs": [],
   "source": [
    "# Necessary metadata\n",
    "article_id = 14096681  # this is the unique identifier of the article on figshare\n",
    "url = f\"https://api.figshare.com/v2/articles/{article_id}\"\n",
    "headers = {\"Content-Type\": \"application/json\"}\n",
    "output_directory = \"dailyrainfall/\""
   ]
  },
  {
   "cell_type": "code",
   "execution_count": 3,
   "id": "d2b94c5d-85b1-4584-8421-76bffd3379f9",
   "metadata": {},
   "outputs": [
    {
     "data": {
      "text/plain": [
       "[{'id': 26579150,\n",
       "  'name': 'daily_rainfall_2014.png',\n",
       "  'size': 58863,\n",
       "  'is_link_only': False,\n",
       "  'download_url': 'https://ndownloader.figshare.com/files/26579150',\n",
       "  'supplied_md5': 'fd32a2ffde300a31f8d63b1825d47e5e',\n",
       "  'computed_md5': 'fd32a2ffde300a31f8d63b1825d47e5e'},\n",
       " {'id': 26579171,\n",
       "  'name': 'environment.yml',\n",
       "  'size': 192,\n",
       "  'is_link_only': False,\n",
       "  'download_url': 'https://ndownloader.figshare.com/files/26579171',\n",
       "  'supplied_md5': '060b2020017eed93a1ee7dd8c65b2f34',\n",
       "  'computed_md5': '060b2020017eed93a1ee7dd8c65b2f34'},\n",
       " {'id': 26586554,\n",
       "  'name': 'README.md',\n",
       "  'size': 5422,\n",
       "  'is_link_only': False,\n",
       "  'download_url': 'https://ndownloader.figshare.com/files/26586554',\n",
       "  'supplied_md5': '61858c6cc0e6a6d6663a7e4c75bbd88c',\n",
       "  'computed_md5': '61858c6cc0e6a6d6663a7e4c75bbd88c'},\n",
       " {'id': 26766812,\n",
       "  'name': 'data.zip',\n",
       "  'size': 814041183,\n",
       "  'is_link_only': False,\n",
       "  'download_url': 'https://ndownloader.figshare.com/files/26766812',\n",
       "  'supplied_md5': 'b517383f76e77bd03755a63a8ff83ee9',\n",
       "  'computed_md5': 'b517383f76e77bd03755a63a8ff83ee9'},\n",
       " {'id': 26766815,\n",
       "  'name': 'get_data.py',\n",
       "  'size': 4113,\n",
       "  'is_link_only': False,\n",
       "  'download_url': 'https://ndownloader.figshare.com/files/26766815',\n",
       "  'supplied_md5': '7829028495fd9dec9680ea013474afa6',\n",
       "  'computed_md5': '7829028495fd9dec9680ea013474afa6'}]"
      ]
     },
     "execution_count": 3,
     "metadata": {},
     "output_type": "execute_result"
    }
   ],
   "source": [
    "response = requests.request(\"GET\", url, headers=headers)\n",
    "data = json.loads(response.text)  # this contains all the articles data, feel free to check it out\n",
    "files = data[\"files\"]             # this is just the data about the files, which is what we want\n",
    "files"
   ]
  },
  {
   "cell_type": "code",
   "execution_count": 4,
   "id": "16b42f2c-a24b-4092-bc18-e0a2a5ced1a7",
   "metadata": {},
   "outputs": [
    {
     "name": "stdout",
     "output_type": "stream",
     "text": [
      "CPU times: user 4.51 s, sys: 6.63 s, total: 11.1 s\n",
      "Wall time: 2min 19s\n"
     ]
    }
   ],
   "source": [
    "%%time\n",
    "files_to_dl = [\"data.zip\"]  # feel free to add other files here\n",
    "for file in files:\n",
    "    if file[\"name\"] in files_to_dl:\n",
    "        os.makedirs(output_directory, exist_ok=True)\n",
    "        urlretrieve(file[\"download_url\"], output_directory + file[\"name\"])"
   ]
  },
  {
   "cell_type": "markdown",
   "id": "d4dd4fea-a888-46b4-9b8a-3e33dcb24f74",
   "metadata": {},
   "source": [
    "### Extracting ZIP"
   ]
  },
  {
   "cell_type": "code",
   "execution_count": 5,
   "id": "ed626402-85ff-403c-9d7f-4531fff81674",
   "metadata": {},
   "outputs": [
    {
     "name": "stdout",
     "output_type": "stream",
     "text": [
      "CPU times: user 14.3 s, sys: 2.5 s, total: 16.8 s\n",
      "Wall time: 17.1 s\n"
     ]
    }
   ],
   "source": [
    "%%time\n",
    "with zipfile.ZipFile(os.path.join(output_directory, \"data.zip\"), 'r') as f:\n",
    "    f.extractall(output_directory)"
   ]
  },
  {
   "cell_type": "code",
   "execution_count": 6,
   "id": "c27e4b1c-0d24-4bd5-8c9a-d0aad6f6f9d9",
   "metadata": {},
   "outputs": [
    {
     "name": "stdout",
     "output_type": "stream",
     "text": [
      "total 12146232\n",
      "-rw-r--r--   1 apple  staff  814041183 Mar 28 23:48 data.zip\n",
      "-rw-r--r--   1 apple  staff   95376895 Mar 28 23:48 MPI-ESM-1-2-HAM_daily_rainfall_NSW.csv\n",
      "-rw-r--r--   1 apple  staff   94960113 Mar 28 23:48 AWI-ESM-1-1-LR_daily_rainfall_NSW.csv\n",
      "-rw-r--r--   1 apple  staff   82474546 Mar 28 23:48 NorESM2-LM_daily_rainfall_NSW.csv\n",
      "-rw-r--r--   1 apple  staff  127613760 Mar 28 23:48 ACCESS-CM2_daily_rainfall_NSW.csv\n",
      "-rw-r--r--   1 apple  staff  232118894 Mar 28 23:48 FGOALS-f3-L_daily_rainfall_NSW.csv\n",
      "-rw-r--r--   1 apple  staff  330360682 Mar 28 23:48 CMCC-CM2-HR4_daily_rainfall_NSW.csv\n",
      "-rw-r--r--   1 apple  staff  254009247 Mar 28 23:48 MRI-ESM2-0_daily_rainfall_NSW.csv\n",
      "-rw-r--r--   1 apple  staff  235661418 Mar 28 23:48 GFDL-CM4_daily_rainfall_NSW.csv\n",
      "-rw-r--r--   1 apple  staff  294260911 Mar 28 23:48 BCC-CSM2-MR_daily_rainfall_NSW.csv\n",
      "-rw-r--r--   1 apple  staff  295768615 Mar 28 23:48 EC-Earth3-Veg-LR_daily_rainfall_NSW.csv\n",
      "-rw-r--r--   1 apple  staff  328852379 Mar 28 23:48 CMCC-ESM2_daily_rainfall_NSW.csv\n",
      "-rw-r--r--   1 apple  staff   67784105 Mar 28 23:48 NESM3_daily_rainfall_NSW.csv\n",
      "-rw-r--r--   1 apple  staff   95640682 Mar 28 23:48 MPI-ESM1-2-LR_daily_rainfall_NSW.csv\n",
      "-rw-r--r--   1 apple  staff  114707410 Mar 28 23:48 ACCESS-ESM1-5_daily_rainfall_NSW.csv\n",
      "-rw-r--r--   1 apple  staff  116179272 Mar 28 23:48 FGOALS-g3_daily_rainfall_NSW.csv\n",
      "-rw-r--r--   1 apple  staff  102517965 Mar 28 23:48 INM-CM4-8_daily_rainfall_NSW.csv\n",
      "-rw-r--r--   1 apple  staff  515458033 Mar 28 23:48 MPI-ESM1-2-HR_daily_rainfall_NSW.csv\n",
      "-rw-r--r--   1 apple  staff  332813281 Mar 28 23:48 TaiESM1_daily_rainfall_NSW.csv\n",
      "-rw-r--r--   1 apple  staff  337555851 Mar 28 23:48 NorESM2-MM_daily_rainfall_NSW.csv\n",
      "-rw-r--r--   1 apple  staff  328787320 Mar 28 23:48 CMCC-CM2-SR5_daily_rainfall_NSW.csv\n",
      "-rw-r--r--   1 apple  staff     952202 Mar 28 23:48 observed_daily_rainfall_SYD.csv\n",
      "-rw-r--r--   1 apple  staff   93829697 Mar 28 23:48 KIOST-ESM_daily_rainfall_NSW.csv\n",
      "-rw-r--r--   1 apple  staff  102692289 Mar 28 23:48 INM-CM5-0_daily_rainfall_NSW.csv\n",
      "-rw-r--r--   1 apple  staff  206822938 Mar 28 23:48 MIROC6_daily_rainfall_NSW.csv\n",
      "-rw-r--r--   1 apple  staff   55224437 Mar 28 23:48 BCC-ESM1_daily_rainfall_NSW.csv\n",
      "-rw-r--r--   1 apple  staff  124586961 Mar 28 23:48 GFDL-ESM4_daily_rainfall_NSW.csv\n",
      "-rw-r--r--   1 apple  staff   46286371 Mar 28 23:48 CanESM5_daily_rainfall_NSW.csv\n",
      "-rw-r--r--   1 apple  staff  333489879 Mar 28 23:48 SAM0-UNICON_daily_rainfall_NSW.csv\n",
      "drwxr-xr-x  30 apple  staff        960 Mar 28 23:48 \u001b[1m\u001b[34m__MACOSX\u001b[m\u001b[m/\n"
     ]
    }
   ],
   "source": [
    "%ls -ltr dailyrainfall/"
   ]
  },
  {
   "cell_type": "code",
   "execution_count": 7,
   "id": "1045c1a7-8a6e-4819-9918-8b21567b9f4f",
   "metadata": {},
   "outputs": [
    {
     "name": "stdout",
     "output_type": "stream",
     "text": [
      "CPU times: user 650 ms, sys: 71.7 ms, total: 722 ms\n",
      "Wall time: 724 ms\n"
     ]
    },
    {
     "data": {
      "text/html": [
       "<div>\n",
       "<style scoped>\n",
       "    .dataframe tbody tr th:only-of-type {\n",
       "        vertical-align: middle;\n",
       "    }\n",
       "\n",
       "    .dataframe tbody tr th {\n",
       "        vertical-align: top;\n",
       "    }\n",
       "\n",
       "    .dataframe thead th {\n",
       "        text-align: right;\n",
       "    }\n",
       "</style>\n",
       "<table border=\"1\" class=\"dataframe\">\n",
       "  <thead>\n",
       "    <tr style=\"text-align: right;\">\n",
       "      <th></th>\n",
       "      <th>time</th>\n",
       "      <th>lat_min</th>\n",
       "      <th>lat_max</th>\n",
       "      <th>lon_min</th>\n",
       "      <th>lon_max</th>\n",
       "      <th>rain (mm/day)</th>\n",
       "    </tr>\n",
       "  </thead>\n",
       "  <tbody>\n",
       "    <tr>\n",
       "      <th>0</th>\n",
       "      <td>1889-01-01 12:00:00</td>\n",
       "      <td>-36.000000</td>\n",
       "      <td>-34.105263</td>\n",
       "      <td>141.25</td>\n",
       "      <td>143.75</td>\n",
       "      <td>7.651974e-07</td>\n",
       "    </tr>\n",
       "    <tr>\n",
       "      <th>1</th>\n",
       "      <td>1889-01-02 12:00:00</td>\n",
       "      <td>-36.000000</td>\n",
       "      <td>-34.105263</td>\n",
       "      <td>141.25</td>\n",
       "      <td>143.75</td>\n",
       "      <td>8.955062e-06</td>\n",
       "    </tr>\n",
       "    <tr>\n",
       "      <th>2</th>\n",
       "      <td>1889-01-03 12:00:00</td>\n",
       "      <td>-36.000000</td>\n",
       "      <td>-34.105263</td>\n",
       "      <td>141.25</td>\n",
       "      <td>143.75</td>\n",
       "      <td>1.229921e-03</td>\n",
       "    </tr>\n",
       "    <tr>\n",
       "      <th>3</th>\n",
       "      <td>1889-01-04 12:00:00</td>\n",
       "      <td>-36.000000</td>\n",
       "      <td>-34.105263</td>\n",
       "      <td>141.25</td>\n",
       "      <td>143.75</td>\n",
       "      <td>1.460834e-03</td>\n",
       "    </tr>\n",
       "    <tr>\n",
       "      <th>4</th>\n",
       "      <td>1889-01-05 12:00:00</td>\n",
       "      <td>-36.000000</td>\n",
       "      <td>-34.105263</td>\n",
       "      <td>141.25</td>\n",
       "      <td>143.75</td>\n",
       "      <td>1.145301e-09</td>\n",
       "    </tr>\n",
       "    <tr>\n",
       "      <th>...</th>\n",
       "      <td>...</td>\n",
       "      <td>...</td>\n",
       "      <td>...</td>\n",
       "      <td>...</td>\n",
       "      <td>...</td>\n",
       "      <td>...</td>\n",
       "    </tr>\n",
       "    <tr>\n",
       "      <th>919795</th>\n",
       "      <td>2014-12-27 12:00:00</td>\n",
       "      <td>-30.315789</td>\n",
       "      <td>-28.421053</td>\n",
       "      <td>151.25</td>\n",
       "      <td>153.75</td>\n",
       "      <td>5.602033e+00</td>\n",
       "    </tr>\n",
       "    <tr>\n",
       "      <th>919796</th>\n",
       "      <td>2014-12-28 12:00:00</td>\n",
       "      <td>-30.315789</td>\n",
       "      <td>-28.421053</td>\n",
       "      <td>151.25</td>\n",
       "      <td>153.75</td>\n",
       "      <td>2.049624e+01</td>\n",
       "    </tr>\n",
       "    <tr>\n",
       "      <th>919797</th>\n",
       "      <td>2014-12-29 12:00:00</td>\n",
       "      <td>-30.315789</td>\n",
       "      <td>-28.421053</td>\n",
       "      <td>151.25</td>\n",
       "      <td>153.75</td>\n",
       "      <td>7.168385e-02</td>\n",
       "    </tr>\n",
       "    <tr>\n",
       "      <th>919798</th>\n",
       "      <td>2014-12-30 12:00:00</td>\n",
       "      <td>-30.315789</td>\n",
       "      <td>-28.421053</td>\n",
       "      <td>151.25</td>\n",
       "      <td>153.75</td>\n",
       "      <td>1.460354e+00</td>\n",
       "    </tr>\n",
       "    <tr>\n",
       "      <th>919799</th>\n",
       "      <td>2014-12-31 12:00:00</td>\n",
       "      <td>-30.315789</td>\n",
       "      <td>-28.421053</td>\n",
       "      <td>151.25</td>\n",
       "      <td>153.75</td>\n",
       "      <td>1.300419e+01</td>\n",
       "    </tr>\n",
       "  </tbody>\n",
       "</table>\n",
       "<p>919800 rows × 6 columns</p>\n",
       "</div>"
      ],
      "text/plain": [
       "                       time    lat_min    lat_max  lon_min  lon_max  \\\n",
       "0       1889-01-01 12:00:00 -36.000000 -34.105263   141.25   143.75   \n",
       "1       1889-01-02 12:00:00 -36.000000 -34.105263   141.25   143.75   \n",
       "2       1889-01-03 12:00:00 -36.000000 -34.105263   141.25   143.75   \n",
       "3       1889-01-04 12:00:00 -36.000000 -34.105263   141.25   143.75   \n",
       "4       1889-01-05 12:00:00 -36.000000 -34.105263   141.25   143.75   \n",
       "...                     ...        ...        ...      ...      ...   \n",
       "919795  2014-12-27 12:00:00 -30.315789 -28.421053   151.25   153.75   \n",
       "919796  2014-12-28 12:00:00 -30.315789 -28.421053   151.25   153.75   \n",
       "919797  2014-12-29 12:00:00 -30.315789 -28.421053   151.25   153.75   \n",
       "919798  2014-12-30 12:00:00 -30.315789 -28.421053   151.25   153.75   \n",
       "919799  2014-12-31 12:00:00 -30.315789 -28.421053   151.25   153.75   \n",
       "\n",
       "        rain (mm/day)  \n",
       "0        7.651974e-07  \n",
       "1        8.955062e-06  \n",
       "2        1.229921e-03  \n",
       "3        1.460834e-03  \n",
       "4        1.145301e-09  \n",
       "...               ...  \n",
       "919795   5.602033e+00  \n",
       "919796   2.049624e+01  \n",
       "919797   7.168385e-02  \n",
       "919798   1.460354e+00  \n",
       "919799   1.300419e+01  \n",
       "\n",
       "[919800 rows x 6 columns]"
      ]
     },
     "execution_count": 7,
     "metadata": {},
     "output_type": "execute_result"
    }
   ],
   "source": [
    "%%time\n",
    "### just listing to get an idea how individual file looks like \n",
    "use_cols = ['time', 'lat_min', 'lat_max', 'lon_min', 'lon_max', 'rain (mm/day)']\n",
    "df = pd.read_csv(\"dailyrainfall/NorESM2-LM_daily_rainfall_NSW.csv\", usecols=use_cols)\n",
    "df"
   ]
  },
  {
   "cell_type": "code",
   "execution_count": 10,
   "id": "ef541198-2977-497e-ba45-951635fb148e",
   "metadata": {},
   "outputs": [
    {
     "name": "stdout",
     "output_type": "stream",
     "text": [
      "CPU times: user 5min 37s, sys: 14.6 s, total: 5min 52s\n",
      "Wall time: 5min 55s\n"
     ]
    }
   ],
   "source": [
    "%%time\n",
    "## here we are using a normal python way for merging the data \n",
    "import pandas as pd\n",
    "use_cols = ['time', 'lat_min', 'lat_max', 'lon_min', 'lon_max', 'rain (mm/day)']\n",
    "files = glob.glob('dailyrainfall/*.csv')\n",
    "files.remove('dailyrainfall/observed_daily_rainfall_SYD.csv')\n",
    "df = pd.concat((pd.read_csv(file, index_col=0, usecols=use_cols)\n",
    "                .assign(model=re.findall(r'[^\\/]+(?=\\.)', file)[0].split(\"_\")[0])\n",
    "                for file in files)\n",
    "              )\n",
    "df.to_csv(\"dailyrainfall/combined_data.csv\")"
   ]
  },
  {
   "cell_type": "code",
   "execution_count": 11,
   "id": "dbfabbe0-677e-40d2-bdde-b73b5a251cdf",
   "metadata": {},
   "outputs": [
    {
     "name": "stdout",
     "output_type": "stream",
     "text": [
      "5.6G\tdailyrainfall/combined_data.csv\n"
     ]
    }
   ],
   "source": [
    "!du -sh dailyrainfall/combined_data.csv"
   ]
  },
  {
   "cell_type": "code",
   "execution_count": 12,
   "id": "95a5b1e3-5d56-4e47-8c03-0d04f04029b6",
   "metadata": {},
   "outputs": [
    {
     "name": "stdout",
     "output_type": "stream",
     "text": [
      "(62467843, 6)\n"
     ]
    },
    {
     "data": {
      "text/html": [
       "<div>\n",
       "<style scoped>\n",
       "    .dataframe tbody tr th:only-of-type {\n",
       "        vertical-align: middle;\n",
       "    }\n",
       "\n",
       "    .dataframe tbody tr th {\n",
       "        vertical-align: top;\n",
       "    }\n",
       "\n",
       "    .dataframe thead th {\n",
       "        text-align: right;\n",
       "    }\n",
       "</style>\n",
       "<table border=\"1\" class=\"dataframe\">\n",
       "  <thead>\n",
       "    <tr style=\"text-align: right;\">\n",
       "      <th></th>\n",
       "      <th>lat_min</th>\n",
       "      <th>lat_max</th>\n",
       "      <th>lon_min</th>\n",
       "      <th>lon_max</th>\n",
       "      <th>rain (mm/day)</th>\n",
       "      <th>model</th>\n",
       "    </tr>\n",
       "    <tr>\n",
       "      <th>time</th>\n",
       "      <th></th>\n",
       "      <th></th>\n",
       "      <th></th>\n",
       "      <th></th>\n",
       "      <th></th>\n",
       "      <th></th>\n",
       "    </tr>\n",
       "  </thead>\n",
       "  <tbody>\n",
       "    <tr>\n",
       "      <th>1889-01-01 12:00:00</th>\n",
       "      <td>-35.439867</td>\n",
       "      <td>-33.574619</td>\n",
       "      <td>141.5625</td>\n",
       "      <td>143.4375</td>\n",
       "      <td>4.244226e-13</td>\n",
       "      <td>MPI-ESM-1-2-HAM</td>\n",
       "    </tr>\n",
       "    <tr>\n",
       "      <th>1889-01-02 12:00:00</th>\n",
       "      <td>-35.439867</td>\n",
       "      <td>-33.574619</td>\n",
       "      <td>141.5625</td>\n",
       "      <td>143.4375</td>\n",
       "      <td>4.217326e-13</td>\n",
       "      <td>MPI-ESM-1-2-HAM</td>\n",
       "    </tr>\n",
       "    <tr>\n",
       "      <th>1889-01-03 12:00:00</th>\n",
       "      <td>-35.439867</td>\n",
       "      <td>-33.574619</td>\n",
       "      <td>141.5625</td>\n",
       "      <td>143.4375</td>\n",
       "      <td>4.498125e-13</td>\n",
       "      <td>MPI-ESM-1-2-HAM</td>\n",
       "    </tr>\n",
       "    <tr>\n",
       "      <th>1889-01-04 12:00:00</th>\n",
       "      <td>-35.439867</td>\n",
       "      <td>-33.574619</td>\n",
       "      <td>141.5625</td>\n",
       "      <td>143.4375</td>\n",
       "      <td>4.251282e-13</td>\n",
       "      <td>MPI-ESM-1-2-HAM</td>\n",
       "    </tr>\n",
       "    <tr>\n",
       "      <th>1889-01-05 12:00:00</th>\n",
       "      <td>-35.439867</td>\n",
       "      <td>-33.574619</td>\n",
       "      <td>141.5625</td>\n",
       "      <td>143.4375</td>\n",
       "      <td>4.270161e-13</td>\n",
       "      <td>MPI-ESM-1-2-HAM</td>\n",
       "    </tr>\n",
       "  </tbody>\n",
       "</table>\n",
       "</div>"
      ],
      "text/plain": [
       "                       lat_min    lat_max   lon_min   lon_max  rain (mm/day)  \\\n",
       "time                                                                           \n",
       "1889-01-01 12:00:00 -35.439867 -33.574619  141.5625  143.4375   4.244226e-13   \n",
       "1889-01-02 12:00:00 -35.439867 -33.574619  141.5625  143.4375   4.217326e-13   \n",
       "1889-01-03 12:00:00 -35.439867 -33.574619  141.5625  143.4375   4.498125e-13   \n",
       "1889-01-04 12:00:00 -35.439867 -33.574619  141.5625  143.4375   4.251282e-13   \n",
       "1889-01-05 12:00:00 -35.439867 -33.574619  141.5625  143.4375   4.270161e-13   \n",
       "\n",
       "                               model  \n",
       "time                                  \n",
       "1889-01-01 12:00:00  MPI-ESM-1-2-HAM  \n",
       "1889-01-02 12:00:00  MPI-ESM-1-2-HAM  \n",
       "1889-01-03 12:00:00  MPI-ESM-1-2-HAM  \n",
       "1889-01-04 12:00:00  MPI-ESM-1-2-HAM  \n",
       "1889-01-05 12:00:00  MPI-ESM-1-2-HAM  "
      ]
     },
     "execution_count": 12,
     "metadata": {},
     "output_type": "execute_result"
    }
   ],
   "source": [
    "print(df.shape)\n",
    "df.head()"
   ]
  },
  {
   "cell_type": "markdown",
   "id": "0cdf1069-2e91-4875-9d1c-2c8566d24286",
   "metadata": {},
   "source": [
    "### Time comparison between machines for combining data"
   ]
  },
  {
   "cell_type": "markdown",
   "id": "a4c9f588-2513-4075-a7fc-c811651ccd6f",
   "metadata": {},
   "source": [
    "Team Member | Operating System | RAM | Processor | Is SSD | Time taken\n",
    "-- | -- | -- | -- | -- | --\n",
    "Member 1 | MacOS Monterey  | 16Gb  | i5  | Yes | 5m 55s\n",
    "Member 2 |   |   |   |   |  \n",
    "Member 3 |   |   |   |   |  \n",
    "Member 4 |   |   |   |   |  "
   ]
  },
  {
   "cell_type": "code",
   "execution_count": null,
   "id": "bc7fc2e3-f725-4a8d-bee7-61ce3d4a0c1f",
   "metadata": {},
   "outputs": [],
   "source": []
  }
 ],
 "metadata": {
  "kernelspec": {
   "display_name": "Python [conda env:525_2022]",
   "language": "python",
   "name": "conda-env-525_2022-py"
  },
  "language_info": {
   "codemirror_mode": {
    "name": "ipython",
    "version": 3
   },
   "file_extension": ".py",
   "mimetype": "text/x-python",
   "name": "python",
   "nbconvert_exporter": "python",
   "pygments_lexer": "ipython3",
   "version": "3.8.6"
  }
 },
 "nbformat": 4,
 "nbformat_minor": 5
}
