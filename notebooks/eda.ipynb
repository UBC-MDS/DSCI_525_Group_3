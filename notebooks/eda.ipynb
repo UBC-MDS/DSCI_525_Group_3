{
 "cells": [
  {
   "cell_type": "markdown",
   "id": "435e78ce-d38b-45ea-b0a0-69a221849c5e",
   "metadata": {},
   "source": [
    "## Loading packages"
   ]
  },
  {
   "cell_type": "code",
   "execution_count": 1,
   "id": "6f94541f-ab47-440a-b69f-1438ba047de4",
   "metadata": {},
   "outputs": [],
   "source": [
    "import re\n",
    "import os\n",
    "import glob\n",
    "import zipfile\n",
    "import requests\n",
    "from urllib.request import urlretrieve\n",
    "import json\n",
    "import pandas as pd"
   ]
  },
  {
   "cell_type": "markdown",
   "id": "710bcd4f-edd5-44ce-b784-fba9b3719526",
   "metadata": {},
   "source": [
    "## Downloading data"
   ]
  },
  {
   "cell_type": "code",
   "execution_count": 2,
   "id": "430797a1-3d83-4372-b11f-b357b2438d59",
   "metadata": {},
   "outputs": [],
   "source": [
    "# Necessary metadata\n",
    "article_id = 14096681  # this is the unique identifier of the article on figshare\n",
    "url = f\"https://api.figshare.com/v2/articles/{article_id}\"\n",
    "headers = {\"Content-Type\": \"application/json\"}\n",
    "output_directory = \"dailyrainfall/\""
   ]
  },
  {
   "cell_type": "code",
   "execution_count": 3,
   "id": "d2b94c5d-85b1-4584-8421-76bffd3379f9",
   "metadata": {},
   "outputs": [
    {
     "data": {
      "text/plain": [
       "[{'id': 26579150,\n",
       "  'name': 'daily_rainfall_2014.png',\n",
       "  'size': 58863,\n",
       "  'is_link_only': False,\n",
       "  'download_url': 'https://ndownloader.figshare.com/files/26579150',\n",
       "  'supplied_md5': 'fd32a2ffde300a31f8d63b1825d47e5e',\n",
       "  'computed_md5': 'fd32a2ffde300a31f8d63b1825d47e5e'},\n",
       " {'id': 26579171,\n",
       "  'name': 'environment.yml',\n",
       "  'size': 192,\n",
       "  'is_link_only': False,\n",
       "  'download_url': 'https://ndownloader.figshare.com/files/26579171',\n",
       "  'supplied_md5': '060b2020017eed93a1ee7dd8c65b2f34',\n",
       "  'computed_md5': '060b2020017eed93a1ee7dd8c65b2f34'},\n",
       " {'id': 26586554,\n",
       "  'name': 'README.md',\n",
       "  'size': 5422,\n",
       "  'is_link_only': False,\n",
       "  'download_url': 'https://ndownloader.figshare.com/files/26586554',\n",
       "  'supplied_md5': '61858c6cc0e6a6d6663a7e4c75bbd88c',\n",
       "  'computed_md5': '61858c6cc0e6a6d6663a7e4c75bbd88c'},\n",
       " {'id': 26766812,\n",
       "  'name': 'data.zip',\n",
       "  'size': 814041183,\n",
       "  'is_link_only': False,\n",
       "  'download_url': 'https://ndownloader.figshare.com/files/26766812',\n",
       "  'supplied_md5': 'b517383f76e77bd03755a63a8ff83ee9',\n",
       "  'computed_md5': 'b517383f76e77bd03755a63a8ff83ee9'},\n",
       " {'id': 26766815,\n",
       "  'name': 'get_data.py',\n",
       "  'size': 4113,\n",
       "  'is_link_only': False,\n",
       "  'download_url': 'https://ndownloader.figshare.com/files/26766815',\n",
       "  'supplied_md5': '7829028495fd9dec9680ea013474afa6',\n",
       "  'computed_md5': '7829028495fd9dec9680ea013474afa6'}]"
      ]
     },
     "execution_count": 3,
     "metadata": {},
     "output_type": "execute_result"
    }
   ],
   "source": [
    "response = requests.request(\"GET\", url, headers=headers)\n",
    "data = json.loads(response.text)  # this contains all the articles data, feel free to check it out\n",
    "files = data[\"files\"]             # this is just the data about the files, which is what we want\n",
    "files"
   ]
  },
  {
   "cell_type": "code",
   "execution_count": 4,
   "id": "16b42f2c-a24b-4092-bc18-e0a2a5ced1a7",
   "metadata": {},
   "outputs": [
    {
     "name": "stdout",
     "output_type": "stream",
     "text": [
      "CPU times: user 4.51 s, sys: 6.63 s, total: 11.1 s\n",
      "Wall time: 2min 19s\n"
     ]
    }
   ],
   "source": [
    "%%time\n",
    "files_to_dl = [\"data.zip\"]  # feel free to add other files here\n",
    "for file in files:\n",
    "    if file[\"name\"] in files_to_dl:\n",
    "        os.makedirs(output_directory, exist_ok=True)\n",
    "        urlretrieve(file[\"download_url\"], output_directory + file[\"name\"])"
   ]
  },
  {
   "cell_type": "markdown",
   "id": "d4dd4fea-a888-46b4-9b8a-3e33dcb24f74",
   "metadata": {},
   "source": [
    "## Extracting ZIP and combining data"
   ]
  },
  {
   "cell_type": "code",
   "execution_count": 5,
   "id": "ed626402-85ff-403c-9d7f-4531fff81674",
   "metadata": {},
   "outputs": [
    {
     "name": "stdout",
     "output_type": "stream",
     "text": [
      "CPU times: user 14.3 s, sys: 2.5 s, total: 16.8 s\n",
      "Wall time: 17.1 s\n"
     ]
    }
   ],
   "source": [
    "%%time\n",
    "with zipfile.ZipFile(os.path.join(output_directory, \"data.zip\"), 'r') as f:\n",
    "    f.extractall(output_directory)"
   ]
  },
  {
   "cell_type": "code",
   "execution_count": 6,
   "id": "c27e4b1c-0d24-4bd5-8c9a-d0aad6f6f9d9",
   "metadata": {},
   "outputs": [
    {
     "name": "stdout",
     "output_type": "stream",
     "text": [
      "total 12146232\n",
      "-rw-r--r--   1 apple  staff  814041183 Mar 28 23:48 data.zip\n",
      "-rw-r--r--   1 apple  staff   95376895 Mar 28 23:48 MPI-ESM-1-2-HAM_daily_rainfall_NSW.csv\n",
      "-rw-r--r--   1 apple  staff   94960113 Mar 28 23:48 AWI-ESM-1-1-LR_daily_rainfall_NSW.csv\n",
      "-rw-r--r--   1 apple  staff   82474546 Mar 28 23:48 NorESM2-LM_daily_rainfall_NSW.csv\n",
      "-rw-r--r--   1 apple  staff  127613760 Mar 28 23:48 ACCESS-CM2_daily_rainfall_NSW.csv\n",
      "-rw-r--r--   1 apple  staff  232118894 Mar 28 23:48 FGOALS-f3-L_daily_rainfall_NSW.csv\n",
      "-rw-r--r--   1 apple  staff  330360682 Mar 28 23:48 CMCC-CM2-HR4_daily_rainfall_NSW.csv\n",
      "-rw-r--r--   1 apple  staff  254009247 Mar 28 23:48 MRI-ESM2-0_daily_rainfall_NSW.csv\n",
      "-rw-r--r--   1 apple  staff  235661418 Mar 28 23:48 GFDL-CM4_daily_rainfall_NSW.csv\n",
      "-rw-r--r--   1 apple  staff  294260911 Mar 28 23:48 BCC-CSM2-MR_daily_rainfall_NSW.csv\n",
      "-rw-r--r--   1 apple  staff  295768615 Mar 28 23:48 EC-Earth3-Veg-LR_daily_rainfall_NSW.csv\n",
      "-rw-r--r--   1 apple  staff  328852379 Mar 28 23:48 CMCC-ESM2_daily_rainfall_NSW.csv\n",
      "-rw-r--r--   1 apple  staff   67784105 Mar 28 23:48 NESM3_daily_rainfall_NSW.csv\n",
      "-rw-r--r--   1 apple  staff   95640682 Mar 28 23:48 MPI-ESM1-2-LR_daily_rainfall_NSW.csv\n",
      "-rw-r--r--   1 apple  staff  114707410 Mar 28 23:48 ACCESS-ESM1-5_daily_rainfall_NSW.csv\n",
      "-rw-r--r--   1 apple  staff  116179272 Mar 28 23:48 FGOALS-g3_daily_rainfall_NSW.csv\n",
      "-rw-r--r--   1 apple  staff  102517965 Mar 28 23:48 INM-CM4-8_daily_rainfall_NSW.csv\n",
      "-rw-r--r--   1 apple  staff  515458033 Mar 28 23:48 MPI-ESM1-2-HR_daily_rainfall_NSW.csv\n",
      "-rw-r--r--   1 apple  staff  332813281 Mar 28 23:48 TaiESM1_daily_rainfall_NSW.csv\n",
      "-rw-r--r--   1 apple  staff  337555851 Mar 28 23:48 NorESM2-MM_daily_rainfall_NSW.csv\n",
      "-rw-r--r--   1 apple  staff  328787320 Mar 28 23:48 CMCC-CM2-SR5_daily_rainfall_NSW.csv\n",
      "-rw-r--r--   1 apple  staff     952202 Mar 28 23:48 observed_daily_rainfall_SYD.csv\n",
      "-rw-r--r--   1 apple  staff   93829697 Mar 28 23:48 KIOST-ESM_daily_rainfall_NSW.csv\n",
      "-rw-r--r--   1 apple  staff  102692289 Mar 28 23:48 INM-CM5-0_daily_rainfall_NSW.csv\n",
      "-rw-r--r--   1 apple  staff  206822938 Mar 28 23:48 MIROC6_daily_rainfall_NSW.csv\n",
      "-rw-r--r--   1 apple  staff   55224437 Mar 28 23:48 BCC-ESM1_daily_rainfall_NSW.csv\n",
      "-rw-r--r--   1 apple  staff  124586961 Mar 28 23:48 GFDL-ESM4_daily_rainfall_NSW.csv\n",
      "-rw-r--r--   1 apple  staff   46286371 Mar 28 23:48 CanESM5_daily_rainfall_NSW.csv\n",
      "-rw-r--r--   1 apple  staff  333489879 Mar 28 23:48 SAM0-UNICON_daily_rainfall_NSW.csv\n",
      "drwxr-xr-x  30 apple  staff        960 Mar 28 23:48 \u001b[1m\u001b[34m__MACOSX\u001b[m\u001b[m/\n"
     ]
    }
   ],
   "source": [
    "%ls -ltr dailyrainfall/"
   ]
  },
  {
   "cell_type": "code",
   "execution_count": 7,
   "id": "1045c1a7-8a6e-4819-9918-8b21567b9f4f",
   "metadata": {},
   "outputs": [
    {
     "name": "stdout",
     "output_type": "stream",
     "text": [
      "CPU times: user 650 ms, sys: 71.7 ms, total: 722 ms\n",
      "Wall time: 724 ms\n"
     ]
    },
    {
     "data": {
      "text/html": [
       "<div>\n",
       "<style scoped>\n",
       "    .dataframe tbody tr th:only-of-type {\n",
       "        vertical-align: middle;\n",
       "    }\n",
       "\n",
       "    .dataframe tbody tr th {\n",
       "        vertical-align: top;\n",
       "    }\n",
       "\n",
       "    .dataframe thead th {\n",
       "        text-align: right;\n",
       "    }\n",
       "</style>\n",
       "<table border=\"1\" class=\"dataframe\">\n",
       "  <thead>\n",
       "    <tr style=\"text-align: right;\">\n",
       "      <th></th>\n",
       "      <th>time</th>\n",
       "      <th>lat_min</th>\n",
       "      <th>lat_max</th>\n",
       "      <th>lon_min</th>\n",
       "      <th>lon_max</th>\n",
       "      <th>rain (mm/day)</th>\n",
       "    </tr>\n",
       "  </thead>\n",
       "  <tbody>\n",
       "    <tr>\n",
       "      <th>0</th>\n",
       "      <td>1889-01-01 12:00:00</td>\n",
       "      <td>-36.000000</td>\n",
       "      <td>-34.105263</td>\n",
       "      <td>141.25</td>\n",
       "      <td>143.75</td>\n",
       "      <td>7.651974e-07</td>\n",
       "    </tr>\n",
       "    <tr>\n",
       "      <th>1</th>\n",
       "      <td>1889-01-02 12:00:00</td>\n",
       "      <td>-36.000000</td>\n",
       "      <td>-34.105263</td>\n",
       "      <td>141.25</td>\n",
       "      <td>143.75</td>\n",
       "      <td>8.955062e-06</td>\n",
       "    </tr>\n",
       "    <tr>\n",
       "      <th>2</th>\n",
       "      <td>1889-01-03 12:00:00</td>\n",
       "      <td>-36.000000</td>\n",
       "      <td>-34.105263</td>\n",
       "      <td>141.25</td>\n",
       "      <td>143.75</td>\n",
       "      <td>1.229921e-03</td>\n",
       "    </tr>\n",
       "    <tr>\n",
       "      <th>3</th>\n",
       "      <td>1889-01-04 12:00:00</td>\n",
       "      <td>-36.000000</td>\n",
       "      <td>-34.105263</td>\n",
       "      <td>141.25</td>\n",
       "      <td>143.75</td>\n",
       "      <td>1.460834e-03</td>\n",
       "    </tr>\n",
       "    <tr>\n",
       "      <th>4</th>\n",
       "      <td>1889-01-05 12:00:00</td>\n",
       "      <td>-36.000000</td>\n",
       "      <td>-34.105263</td>\n",
       "      <td>141.25</td>\n",
       "      <td>143.75</td>\n",
       "      <td>1.145301e-09</td>\n",
       "    </tr>\n",
       "    <tr>\n",
       "      <th>...</th>\n",
       "      <td>...</td>\n",
       "      <td>...</td>\n",
       "      <td>...</td>\n",
       "      <td>...</td>\n",
       "      <td>...</td>\n",
       "      <td>...</td>\n",
       "    </tr>\n",
       "    <tr>\n",
       "      <th>919795</th>\n",
       "      <td>2014-12-27 12:00:00</td>\n",
       "      <td>-30.315789</td>\n",
       "      <td>-28.421053</td>\n",
       "      <td>151.25</td>\n",
       "      <td>153.75</td>\n",
       "      <td>5.602033e+00</td>\n",
       "    </tr>\n",
       "    <tr>\n",
       "      <th>919796</th>\n",
       "      <td>2014-12-28 12:00:00</td>\n",
       "      <td>-30.315789</td>\n",
       "      <td>-28.421053</td>\n",
       "      <td>151.25</td>\n",
       "      <td>153.75</td>\n",
       "      <td>2.049624e+01</td>\n",
       "    </tr>\n",
       "    <tr>\n",
       "      <th>919797</th>\n",
       "      <td>2014-12-29 12:00:00</td>\n",
       "      <td>-30.315789</td>\n",
       "      <td>-28.421053</td>\n",
       "      <td>151.25</td>\n",
       "      <td>153.75</td>\n",
       "      <td>7.168385e-02</td>\n",
       "    </tr>\n",
       "    <tr>\n",
       "      <th>919798</th>\n",
       "      <td>2014-12-30 12:00:00</td>\n",
       "      <td>-30.315789</td>\n",
       "      <td>-28.421053</td>\n",
       "      <td>151.25</td>\n",
       "      <td>153.75</td>\n",
       "      <td>1.460354e+00</td>\n",
       "    </tr>\n",
       "    <tr>\n",
       "      <th>919799</th>\n",
       "      <td>2014-12-31 12:00:00</td>\n",
       "      <td>-30.315789</td>\n",
       "      <td>-28.421053</td>\n",
       "      <td>151.25</td>\n",
       "      <td>153.75</td>\n",
       "      <td>1.300419e+01</td>\n",
       "    </tr>\n",
       "  </tbody>\n",
       "</table>\n",
       "<p>919800 rows × 6 columns</p>\n",
       "</div>"
      ],
      "text/plain": [
       "                       time    lat_min    lat_max  lon_min  lon_max  \\\n",
       "0       1889-01-01 12:00:00 -36.000000 -34.105263   141.25   143.75   \n",
       "1       1889-01-02 12:00:00 -36.000000 -34.105263   141.25   143.75   \n",
       "2       1889-01-03 12:00:00 -36.000000 -34.105263   141.25   143.75   \n",
       "3       1889-01-04 12:00:00 -36.000000 -34.105263   141.25   143.75   \n",
       "4       1889-01-05 12:00:00 -36.000000 -34.105263   141.25   143.75   \n",
       "...                     ...        ...        ...      ...      ...   \n",
       "919795  2014-12-27 12:00:00 -30.315789 -28.421053   151.25   153.75   \n",
       "919796  2014-12-28 12:00:00 -30.315789 -28.421053   151.25   153.75   \n",
       "919797  2014-12-29 12:00:00 -30.315789 -28.421053   151.25   153.75   \n",
       "919798  2014-12-30 12:00:00 -30.315789 -28.421053   151.25   153.75   \n",
       "919799  2014-12-31 12:00:00 -30.315789 -28.421053   151.25   153.75   \n",
       "\n",
       "        rain (mm/day)  \n",
       "0        7.651974e-07  \n",
       "1        8.955062e-06  \n",
       "2        1.229921e-03  \n",
       "3        1.460834e-03  \n",
       "4        1.145301e-09  \n",
       "...               ...  \n",
       "919795   5.602033e+00  \n",
       "919796   2.049624e+01  \n",
       "919797   7.168385e-02  \n",
       "919798   1.460354e+00  \n",
       "919799   1.300419e+01  \n",
       "\n",
       "[919800 rows x 6 columns]"
      ]
     },
     "execution_count": 7,
     "metadata": {},
     "output_type": "execute_result"
    }
   ],
   "source": [
    "%%time\n",
    "### just listing to get an idea how individual file looks like \n",
    "use_cols = ['time', 'lat_min', 'lat_max', 'lon_min', 'lon_max', 'rain (mm/day)']\n",
    "df = pd.read_csv(\"dailyrainfall/NorESM2-LM_daily_rainfall_NSW.csv\", usecols=use_cols)\n",
    "df"
   ]
  },
  {
   "cell_type": "code",
   "execution_count": 10,
   "id": "ef541198-2977-497e-ba45-951635fb148e",
   "metadata": {},
   "outputs": [
    {
     "name": "stdout",
     "output_type": "stream",
     "text": [
      "CPU times: user 5min 37s, sys: 14.6 s, total: 5min 52s\n",
      "Wall time: 5min 55s\n"
     ]
    }
   ],
   "source": [
    "%%time\n",
    "## here we are using a normal python way for merging the data \n",
    "import pandas as pd\n",
    "use_cols = ['time', 'lat_min', 'lat_max', 'lon_min', 'lon_max', 'rain (mm/day)']\n",
    "files = glob.glob('dailyrainfall/*.csv')\n",
    "files.remove('dailyrainfall/observed_daily_rainfall_SYD.csv')\n",
    "df = pd.concat((pd.read_csv(file, index_col=0, usecols=use_cols)\n",
    "                .assign(model=re.findall(r'[^\\/]+(?=\\.)', file)[0].split(\"_\")[0])\n",
    "                for file in files)\n",
    "              )\n",
    "df.to_csv(\"dailyrainfall/combined_data.csv\")"
   ]
  },
  {
   "cell_type": "code",
   "execution_count": 11,
   "id": "dbfabbe0-677e-40d2-bdde-b73b5a251cdf",
   "metadata": {},
   "outputs": [
    {
     "name": "stdout",
     "output_type": "stream",
     "text": [
      "5.6G\tdailyrainfall/combined_data.csv\n"
     ]
    }
   ],
   "source": [
    "!du -sh dailyrainfall/combined_data.csv"
   ]
  },
  {
   "cell_type": "code",
   "execution_count": 12,
   "id": "95a5b1e3-5d56-4e47-8c03-0d04f04029b6",
   "metadata": {},
   "outputs": [
    {
     "name": "stdout",
     "output_type": "stream",
     "text": [
      "(62467843, 6)\n"
     ]
    },
    {
     "data": {
      "text/html": [
       "<div>\n",
       "<style scoped>\n",
       "    .dataframe tbody tr th:only-of-type {\n",
       "        vertical-align: middle;\n",
       "    }\n",
       "\n",
       "    .dataframe tbody tr th {\n",
       "        vertical-align: top;\n",
       "    }\n",
       "\n",
       "    .dataframe thead th {\n",
       "        text-align: right;\n",
       "    }\n",
       "</style>\n",
       "<table border=\"1\" class=\"dataframe\">\n",
       "  <thead>\n",
       "    <tr style=\"text-align: right;\">\n",
       "      <th></th>\n",
       "      <th>lat_min</th>\n",
       "      <th>lat_max</th>\n",
       "      <th>lon_min</th>\n",
       "      <th>lon_max</th>\n",
       "      <th>rain (mm/day)</th>\n",
       "      <th>model</th>\n",
       "    </tr>\n",
       "    <tr>\n",
       "      <th>time</th>\n",
       "      <th></th>\n",
       "      <th></th>\n",
       "      <th></th>\n",
       "      <th></th>\n",
       "      <th></th>\n",
       "      <th></th>\n",
       "    </tr>\n",
       "  </thead>\n",
       "  <tbody>\n",
       "    <tr>\n",
       "      <th>1889-01-01 12:00:00</th>\n",
       "      <td>-35.439867</td>\n",
       "      <td>-33.574619</td>\n",
       "      <td>141.5625</td>\n",
       "      <td>143.4375</td>\n",
       "      <td>4.244226e-13</td>\n",
       "      <td>MPI-ESM-1-2-HAM</td>\n",
       "    </tr>\n",
       "    <tr>\n",
       "      <th>1889-01-02 12:00:00</th>\n",
       "      <td>-35.439867</td>\n",
       "      <td>-33.574619</td>\n",
       "      <td>141.5625</td>\n",
       "      <td>143.4375</td>\n",
       "      <td>4.217326e-13</td>\n",
       "      <td>MPI-ESM-1-2-HAM</td>\n",
       "    </tr>\n",
       "    <tr>\n",
       "      <th>1889-01-03 12:00:00</th>\n",
       "      <td>-35.439867</td>\n",
       "      <td>-33.574619</td>\n",
       "      <td>141.5625</td>\n",
       "      <td>143.4375</td>\n",
       "      <td>4.498125e-13</td>\n",
       "      <td>MPI-ESM-1-2-HAM</td>\n",
       "    </tr>\n",
       "    <tr>\n",
       "      <th>1889-01-04 12:00:00</th>\n",
       "      <td>-35.439867</td>\n",
       "      <td>-33.574619</td>\n",
       "      <td>141.5625</td>\n",
       "      <td>143.4375</td>\n",
       "      <td>4.251282e-13</td>\n",
       "      <td>MPI-ESM-1-2-HAM</td>\n",
       "    </tr>\n",
       "    <tr>\n",
       "      <th>1889-01-05 12:00:00</th>\n",
       "      <td>-35.439867</td>\n",
       "      <td>-33.574619</td>\n",
       "      <td>141.5625</td>\n",
       "      <td>143.4375</td>\n",
       "      <td>4.270161e-13</td>\n",
       "      <td>MPI-ESM-1-2-HAM</td>\n",
       "    </tr>\n",
       "  </tbody>\n",
       "</table>\n",
       "</div>"
      ],
      "text/plain": [
       "                       lat_min    lat_max   lon_min   lon_max  rain (mm/day)  \\\n",
       "time                                                                           \n",
       "1889-01-01 12:00:00 -35.439867 -33.574619  141.5625  143.4375   4.244226e-13   \n",
       "1889-01-02 12:00:00 -35.439867 -33.574619  141.5625  143.4375   4.217326e-13   \n",
       "1889-01-03 12:00:00 -35.439867 -33.574619  141.5625  143.4375   4.498125e-13   \n",
       "1889-01-04 12:00:00 -35.439867 -33.574619  141.5625  143.4375   4.251282e-13   \n",
       "1889-01-05 12:00:00 -35.439867 -33.574619  141.5625  143.4375   4.270161e-13   \n",
       "\n",
       "                               model  \n",
       "time                                  \n",
       "1889-01-01 12:00:00  MPI-ESM-1-2-HAM  \n",
       "1889-01-02 12:00:00  MPI-ESM-1-2-HAM  \n",
       "1889-01-03 12:00:00  MPI-ESM-1-2-HAM  \n",
       "1889-01-04 12:00:00  MPI-ESM-1-2-HAM  \n",
       "1889-01-05 12:00:00  MPI-ESM-1-2-HAM  "
      ]
     },
     "execution_count": 12,
     "metadata": {},
     "output_type": "execute_result"
    }
   ],
   "source": [
    "print(df.shape)\n",
    "df.head()"
   ]
  },
  {
   "cell_type": "markdown",
   "id": "0cdf1069-2e91-4875-9d1c-2c8566d24286",
   "metadata": {},
   "source": [
    "### Time comparison between machines for combining data"
   ]
  },
  {
   "cell_type": "markdown",
   "id": "a4c9f588-2513-4075-a7fc-c811651ccd6f",
   "metadata": {},
   "source": [
    "Team Member | Operating System | RAM | Processor | Is SSD | Time taken\n",
    "-- | -- | -- | -- | -- | --\n",
    "Member 1 | MacOS Monterey  | 16Gb  | i5  | Yes | 5m 55s\n",
    "Member 2 |macOS Big Sur 11.5.2|   8GB   |  Apple M1 |    yes    |    6min 8s    |\n",
    "Member 3 | Win 10   |8Gb   | Ryzen 7  | Yes | 11m 17s\n",
    "Member 4 |   |   |   |   | "
   ]
  },
  {
   "cell_type": "markdown",
   "id": "cf7e6baa-c9d8-40c0-9329-e26df1513981",
   "metadata": {},
   "source": [
    "## Loading and reducing memory usage of combined data"
   ]
  },
  {
   "cell_type": "markdown",
   "id": "e0bebfc1-2532-4492-8d00-b65b592b8a87",
   "metadata": {},
   "source": [
    "### Changing datatype"
   ]
  },
  {
   "cell_type": "code",
   "execution_count": 2,
   "id": "17ec4309-61b4-4b2f-ab8d-c9976f55bbb5",
   "metadata": {},
   "outputs": [],
   "source": [
    "df = pd.read_csv(\"dailyrainfall/combined_data.csv\", index_col=0)"
   ]
  },
  {
   "cell_type": "code",
   "execution_count": 78,
   "id": "2b966859-32e5-4df4-b5a5-3d3af96a860d",
   "metadata": {},
   "outputs": [
    {
     "name": "stdout",
     "output_type": "stream",
     "text": [
      "Memory usage of complete data: 3.50 GB\n"
     ]
    }
   ],
   "source": [
    "print(f\"Memory usage of complete data: {df.memory_usage().sum() / 1e9:.2f} GB\")"
   ]
  },
  {
   "cell_type": "code",
   "execution_count": 79,
   "id": "fea89eeb-c1c2-42a8-aadc-867441f06cf0",
   "metadata": {},
   "outputs": [
    {
     "data": {
      "text/plain": [
       "lat_min          float64\n",
       "lat_max          float64\n",
       "lon_min          float64\n",
       "lon_max          float64\n",
       "rain (mm/day)    float64\n",
       "model             object\n",
       "dtype: object"
      ]
     },
     "execution_count": 79,
     "metadata": {},
     "output_type": "execute_result"
    }
   ],
   "source": [
    "df.dtypes"
   ]
  },
  {
   "cell_type": "code",
   "execution_count": 80,
   "id": "74085911-63f8-40fa-8d65-0dcb824ba474",
   "metadata": {},
   "outputs": [
    {
     "name": "stdout",
     "output_type": "stream",
     "text": [
      "Memory usage with float64 of numeric columns: 3.00 GB\n"
     ]
    }
   ],
   "source": [
    "print(f\"Memory usage with float64 of numeric columns: {df[['lat_min', 'lat_max','lon_min', 'lon_max', 'rain (mm/day)']].memory_usage().sum() / 1e9:.2f} GB\")\n"
   ]
  },
  {
   "cell_type": "code",
   "execution_count": 81,
   "id": "88289490-bfd9-4b42-9dc2-a8c325c18a78",
   "metadata": {},
   "outputs": [
    {
     "name": "stdout",
     "output_type": "stream",
     "text": [
      "Memory usage with float32: 1.75 GB\n"
     ]
    }
   ],
   "source": [
    "print(f\"Memory usage with float32: {df[['lat_min', 'lat_max', 'lon_min', 'lon_max', 'rain (mm/day)']].astype('float32', errors='ignore').memory_usage().sum() / 1e9:.2f} GB\")\n"
   ]
  },
  {
   "cell_type": "markdown",
   "id": "2be650de-782f-40dd-8288-d6d52113bb2f",
   "metadata": {},
   "source": [
    "- Changing the datatype from float64 to float32 reduced our data memory usage from 3Gb to 1.75Gb. Almost by half."
   ]
  },
  {
   "cell_type": "code",
   "execution_count": 82,
   "id": "3c0a7adb-4ddd-42a2-be9d-b1076b5a5c99",
   "metadata": {},
   "outputs": [
    {
     "name": "stdout",
     "output_type": "stream",
     "text": [
      "CPU times: user 11.7 s, sys: 5.03 s, total: 16.8 s\n",
      "Wall time: 16.8 s\n"
     ]
    },
    {
     "data": {
      "text/html": [
       "<div>\n",
       "<style scoped>\n",
       "    .dataframe tbody tr th:only-of-type {\n",
       "        vertical-align: middle;\n",
       "    }\n",
       "\n",
       "    .dataframe tbody tr th {\n",
       "        vertical-align: top;\n",
       "    }\n",
       "\n",
       "    .dataframe thead th {\n",
       "        text-align: right;\n",
       "    }\n",
       "</style>\n",
       "<table border=\"1\" class=\"dataframe\">\n",
       "  <thead>\n",
       "    <tr style=\"text-align: right;\">\n",
       "      <th></th>\n",
       "      <th>lat_min</th>\n",
       "      <th>lat_max</th>\n",
       "      <th>lon_min</th>\n",
       "      <th>lon_max</th>\n",
       "      <th>rain (mm/day)</th>\n",
       "    </tr>\n",
       "  </thead>\n",
       "  <tbody>\n",
       "    <tr>\n",
       "      <th>count</th>\n",
       "      <td>5.924854e+07</td>\n",
       "      <td>6.246784e+07</td>\n",
       "      <td>5.924854e+07</td>\n",
       "      <td>6.246784e+07</td>\n",
       "      <td>5.924854e+07</td>\n",
       "    </tr>\n",
       "    <tr>\n",
       "      <th>mean</th>\n",
       "      <td>-3.310482e+01</td>\n",
       "      <td>-3.197757e+01</td>\n",
       "      <td>1.469059e+02</td>\n",
       "      <td>1.482150e+02</td>\n",
       "      <td>1.901170e+00</td>\n",
       "    </tr>\n",
       "    <tr>\n",
       "      <th>std</th>\n",
       "      <td>1.963549e+00</td>\n",
       "      <td>1.992067e+00</td>\n",
       "      <td>3.793784e+00</td>\n",
       "      <td>3.809994e+00</td>\n",
       "      <td>5.585735e+00</td>\n",
       "    </tr>\n",
       "    <tr>\n",
       "      <th>min</th>\n",
       "      <td>-3.646739e+01</td>\n",
       "      <td>-3.600000e+01</td>\n",
       "      <td>1.406250e+02</td>\n",
       "      <td>1.412500e+02</td>\n",
       "      <td>-3.807373e-12</td>\n",
       "    </tr>\n",
       "    <tr>\n",
       "      <th>25%</th>\n",
       "      <td>-3.486911e+01</td>\n",
       "      <td>-3.366221e+01</td>\n",
       "      <td>1.434375e+02</td>\n",
       "      <td>1.450000e+02</td>\n",
       "      <td>3.838413e-06</td>\n",
       "    </tr>\n",
       "    <tr>\n",
       "      <th>50%</th>\n",
       "      <td>-3.300000e+01</td>\n",
       "      <td>-3.204188e+01</td>\n",
       "      <td>1.468750e+02</td>\n",
       "      <td>1.481250e+02</td>\n",
       "      <td>6.154947e-02</td>\n",
       "    </tr>\n",
       "    <tr>\n",
       "      <th>75%</th>\n",
       "      <td>-3.140170e+01</td>\n",
       "      <td>-3.015707e+01</td>\n",
       "      <td>1.501875e+02</td>\n",
       "      <td>1.513125e+02</td>\n",
       "      <td>1.020918e+00</td>\n",
       "    </tr>\n",
       "    <tr>\n",
       "      <th>max</th>\n",
       "      <td>-2.990000e+01</td>\n",
       "      <td>-2.790606e+01</td>\n",
       "      <td>1.537500e+02</td>\n",
       "      <td>1.556250e+02</td>\n",
       "      <td>4.329395e+02</td>\n",
       "    </tr>\n",
       "  </tbody>\n",
       "</table>\n",
       "</div>"
      ],
      "text/plain": [
       "            lat_min       lat_max       lon_min       lon_max  rain (mm/day)\n",
       "count  5.924854e+07  6.246784e+07  5.924854e+07  6.246784e+07   5.924854e+07\n",
       "mean  -3.310482e+01 -3.197757e+01  1.469059e+02  1.482150e+02   1.901170e+00\n",
       "std    1.963549e+00  1.992067e+00  3.793784e+00  3.809994e+00   5.585735e+00\n",
       "min   -3.646739e+01 -3.600000e+01  1.406250e+02  1.412500e+02  -3.807373e-12\n",
       "25%   -3.486911e+01 -3.366221e+01  1.434375e+02  1.450000e+02   3.838413e-06\n",
       "50%   -3.300000e+01 -3.204188e+01  1.468750e+02  1.481250e+02   6.154947e-02\n",
       "75%   -3.140170e+01 -3.015707e+01  1.501875e+02  1.513125e+02   1.020918e+00\n",
       "max   -2.990000e+01 -2.790606e+01  1.537500e+02  1.556250e+02   4.329395e+02"
      ]
     },
     "execution_count": 82,
     "metadata": {},
     "output_type": "execute_result"
    }
   ],
   "source": [
    "%%time\n",
    "df[['lat_min', 'lat_max', 'lon_min', 'lon_max', 'rain (mm/day)']].describe()"
   ]
  },
  {
   "cell_type": "code",
   "execution_count": 83,
   "id": "a116c87a-ffc0-4488-a0a9-a3cf7cdc2157",
   "metadata": {},
   "outputs": [],
   "source": [
    "df = df[['lat_min', 'lat_max', 'lon_min', 'lon_max', 'rain (mm/day)']].astype('float32', errors='ignore')"
   ]
  },
  {
   "cell_type": "code",
   "execution_count": 84,
   "id": "1e8f72ca-0108-430e-84f8-29f546cdfb2e",
   "metadata": {},
   "outputs": [
    {
     "name": "stdout",
     "output_type": "stream",
     "text": [
      "CPU times: user 7.61 s, sys: 1.71 s, total: 9.33 s\n",
      "Wall time: 9.33 s\n"
     ]
    },
    {
     "data": {
      "text/html": [
       "<div>\n",
       "<style scoped>\n",
       "    .dataframe tbody tr th:only-of-type {\n",
       "        vertical-align: middle;\n",
       "    }\n",
       "\n",
       "    .dataframe tbody tr th {\n",
       "        vertical-align: top;\n",
       "    }\n",
       "\n",
       "    .dataframe thead th {\n",
       "        text-align: right;\n",
       "    }\n",
       "</style>\n",
       "<table border=\"1\" class=\"dataframe\">\n",
       "  <thead>\n",
       "    <tr style=\"text-align: right;\">\n",
       "      <th></th>\n",
       "      <th>lat_min</th>\n",
       "      <th>lat_max</th>\n",
       "      <th>lon_min</th>\n",
       "      <th>lon_max</th>\n",
       "      <th>rain (mm/day)</th>\n",
       "    </tr>\n",
       "  </thead>\n",
       "  <tbody>\n",
       "    <tr>\n",
       "      <th>count</th>\n",
       "      <td>5.924854e+07</td>\n",
       "      <td>6.246784e+07</td>\n",
       "      <td>5.924854e+07</td>\n",
       "      <td>6.246784e+07</td>\n",
       "      <td>5.924854e+07</td>\n",
       "    </tr>\n",
       "    <tr>\n",
       "      <th>mean</th>\n",
       "      <td>-3.310497e+01</td>\n",
       "      <td>-3.197765e+01</td>\n",
       "      <td>1.469057e+02</td>\n",
       "      <td>1.482150e+02</td>\n",
       "      <td>1.901173e+00</td>\n",
       "    </tr>\n",
       "    <tr>\n",
       "      <th>std</th>\n",
       "      <td>1.963549e+00</td>\n",
       "      <td>1.992067e+00</td>\n",
       "      <td>3.793784e+00</td>\n",
       "      <td>3.809994e+00</td>\n",
       "      <td>5.585735e+00</td>\n",
       "    </tr>\n",
       "    <tr>\n",
       "      <th>min</th>\n",
       "      <td>-3.646739e+01</td>\n",
       "      <td>-3.600000e+01</td>\n",
       "      <td>1.406250e+02</td>\n",
       "      <td>1.412500e+02</td>\n",
       "      <td>-3.807373e-12</td>\n",
       "    </tr>\n",
       "    <tr>\n",
       "      <th>25%</th>\n",
       "      <td>-3.486911e+01</td>\n",
       "      <td>-3.366221e+01</td>\n",
       "      <td>1.434375e+02</td>\n",
       "      <td>1.450000e+02</td>\n",
       "      <td>3.838413e-06</td>\n",
       "    </tr>\n",
       "    <tr>\n",
       "      <th>50%</th>\n",
       "      <td>-3.300000e+01</td>\n",
       "      <td>-3.204189e+01</td>\n",
       "      <td>1.468750e+02</td>\n",
       "      <td>1.481250e+02</td>\n",
       "      <td>6.154947e-02</td>\n",
       "    </tr>\n",
       "    <tr>\n",
       "      <th>75%</th>\n",
       "      <td>-3.140170e+01</td>\n",
       "      <td>-3.015707e+01</td>\n",
       "      <td>1.501875e+02</td>\n",
       "      <td>1.513125e+02</td>\n",
       "      <td>1.020918e+00</td>\n",
       "    </tr>\n",
       "    <tr>\n",
       "      <th>max</th>\n",
       "      <td>-2.990000e+01</td>\n",
       "      <td>-2.790606e+01</td>\n",
       "      <td>1.537500e+02</td>\n",
       "      <td>1.556250e+02</td>\n",
       "      <td>4.329395e+02</td>\n",
       "    </tr>\n",
       "  </tbody>\n",
       "</table>\n",
       "</div>"
      ],
      "text/plain": [
       "            lat_min       lat_max       lon_min       lon_max  rain (mm/day)\n",
       "count  5.924854e+07  6.246784e+07  5.924854e+07  6.246784e+07   5.924854e+07\n",
       "mean  -3.310497e+01 -3.197765e+01  1.469057e+02  1.482150e+02   1.901173e+00\n",
       "std    1.963549e+00  1.992067e+00  3.793784e+00  3.809994e+00   5.585735e+00\n",
       "min   -3.646739e+01 -3.600000e+01  1.406250e+02  1.412500e+02  -3.807373e-12\n",
       "25%   -3.486911e+01 -3.366221e+01  1.434375e+02  1.450000e+02   3.838413e-06\n",
       "50%   -3.300000e+01 -3.204189e+01  1.468750e+02  1.481250e+02   6.154947e-02\n",
       "75%   -3.140170e+01 -3.015707e+01  1.501875e+02  1.513125e+02   1.020918e+00\n",
       "max   -2.990000e+01 -2.790606e+01  1.537500e+02  1.556250e+02   4.329395e+02"
      ]
     },
     "execution_count": 84,
     "metadata": {},
     "output_type": "execute_result"
    }
   ],
   "source": [
    "%%time\n",
    "df.describe()"
   ]
  },
  {
   "cell_type": "markdown",
   "id": "c86347e5-fa7d-435b-86fd-5b27892d2530",
   "metadata": {},
   "source": [
    "- We can observe that after converting our dataframe dtype to float32, our describe function works faster."
   ]
  },
  {
   "cell_type": "markdown",
   "id": "9a961583-27fb-4fc6-8a2f-b9720c517d50",
   "metadata": {},
   "source": [
    "### Reading only required columns"
   ]
  },
  {
   "cell_type": "code",
   "execution_count": 85,
   "id": "2879fcf7-43ce-4157-a704-796b3aa2fc5e",
   "metadata": {},
   "outputs": [
    {
     "data": {
      "text/html": [
       "<div>\n",
       "<style scoped>\n",
       "    .dataframe tbody tr th:only-of-type {\n",
       "        vertical-align: middle;\n",
       "    }\n",
       "\n",
       "    .dataframe tbody tr th {\n",
       "        vertical-align: top;\n",
       "    }\n",
       "\n",
       "    .dataframe thead th {\n",
       "        text-align: right;\n",
       "    }\n",
       "</style>\n",
       "<table border=\"1\" class=\"dataframe\">\n",
       "  <thead>\n",
       "    <tr style=\"text-align: right;\">\n",
       "      <th></th>\n",
       "      <th>lat_min</th>\n",
       "      <th>lat_max</th>\n",
       "      <th>lon_min</th>\n",
       "      <th>lon_max</th>\n",
       "      <th>rain (mm/day)</th>\n",
       "    </tr>\n",
       "  </thead>\n",
       "  <tbody>\n",
       "    <tr>\n",
       "      <th>0</th>\n",
       "      <td>-35.439867</td>\n",
       "      <td>-33.574619</td>\n",
       "      <td>141.5625</td>\n",
       "      <td>143.4375</td>\n",
       "      <td>4.244226e-13</td>\n",
       "    </tr>\n",
       "    <tr>\n",
       "      <th>1</th>\n",
       "      <td>-35.439867</td>\n",
       "      <td>-33.574619</td>\n",
       "      <td>141.5625</td>\n",
       "      <td>143.4375</td>\n",
       "      <td>4.217326e-13</td>\n",
       "    </tr>\n",
       "    <tr>\n",
       "      <th>2</th>\n",
       "      <td>-35.439867</td>\n",
       "      <td>-33.574619</td>\n",
       "      <td>141.5625</td>\n",
       "      <td>143.4375</td>\n",
       "      <td>4.498125e-13</td>\n",
       "    </tr>\n",
       "    <tr>\n",
       "      <th>3</th>\n",
       "      <td>-35.439867</td>\n",
       "      <td>-33.574619</td>\n",
       "      <td>141.5625</td>\n",
       "      <td>143.4375</td>\n",
       "      <td>4.251282e-13</td>\n",
       "    </tr>\n",
       "    <tr>\n",
       "      <th>4</th>\n",
       "      <td>-35.439867</td>\n",
       "      <td>-33.574619</td>\n",
       "      <td>141.5625</td>\n",
       "      <td>143.4375</td>\n",
       "      <td>4.270161e-13</td>\n",
       "    </tr>\n",
       "  </tbody>\n",
       "</table>\n",
       "</div>"
      ],
      "text/plain": [
       "     lat_min    lat_max   lon_min   lon_max  rain (mm/day)\n",
       "0 -35.439867 -33.574619  141.5625  143.4375   4.244226e-13\n",
       "1 -35.439867 -33.574619  141.5625  143.4375   4.217326e-13\n",
       "2 -35.439867 -33.574619  141.5625  143.4375   4.498125e-13\n",
       "3 -35.439867 -33.574619  141.5625  143.4375   4.251282e-13\n",
       "4 -35.439867 -33.574619  141.5625  143.4375   4.270161e-13"
      ]
     },
     "execution_count": 85,
     "metadata": {},
     "output_type": "execute_result"
    }
   ],
   "source": [
    "# Not reading index\n",
    "use_cols = ['lat_min', 'lat_max', 'lon_min', 'lon_max', 'rain (mm/day)']\n",
    "df = pd.read_csv(\"dailyrainfall/combined_data.csv\",\n",
    "                usecols=use_cols)\n",
    "df.head()"
   ]
  },
  {
   "cell_type": "code",
   "execution_count": 86,
   "id": "ac92b847-9d17-4cfa-b454-27efbce9d599",
   "metadata": {},
   "outputs": [
    {
     "name": "stdout",
     "output_type": "stream",
     "text": [
      "Memory usage with float64 of numeric columns without index: 2.50 GB\n"
     ]
    }
   ],
   "source": [
    "print(f\"Memory usage with float64 of numeric columns without index: {df[['lat_min', 'lat_max','lon_min', 'lon_max', 'rain (mm/day)']].memory_usage().sum() / 1e9:.2f} GB\")"
   ]
  },
  {
   "cell_type": "code",
   "execution_count": 88,
   "id": "af79b908-fe2c-4f05-9df6-8dc60b0605fe",
   "metadata": {},
   "outputs": [
    {
     "name": "stdout",
     "output_type": "stream",
     "text": [
      "CPU times: user 58.2 s, sys: 11.3 s, total: 1min 9s\n",
      "Wall time: 1min 13s\n"
     ]
    },
    {
     "data": {
      "text/plain": [
       "MPI-ESM1-2-HR       5154240\n",
       "CMCC-CM2-HR4        3541230\n",
       "CMCC-ESM2           3541230\n",
       "CMCC-CM2-SR5        3541230\n",
       "NorESM2-MM          3541230\n",
       "TaiESM1             3541230\n",
       "SAM0-UNICON         3541153\n",
       "GFDL-ESM4           3219300\n",
       "FGOALS-f3-L         3219300\n",
       "GFDL-CM4            3219300\n",
       "MRI-ESM2-0          3037320\n",
       "EC-Earth3-Veg-LR    3037320\n",
       "BCC-CSM2-MR         3035340\n",
       "MIROC6              2070900\n",
       "ACCESS-CM2          1932840\n",
       "ACCESS-ESM1-5       1610700\n",
       "INM-CM4-8           1609650\n",
       "INM-CM5-0           1609650\n",
       "FGOALS-g3           1287720\n",
       "KIOST-ESM           1287720\n",
       "AWI-ESM-1-1-LR       966420\n",
       "MPI-ESM1-2-LR        966420\n",
       "NESM3                966420\n",
       "MPI-ESM-1-2-HAM      966420\n",
       "NorESM2-LM           919800\n",
       "BCC-ESM1             551880\n",
       "CanESM5              551880\n",
       "Name: model, dtype: int64"
      ]
     },
     "execution_count": 88,
     "metadata": {},
     "output_type": "execute_result"
    }
   ],
   "source": [
    "%%time\n",
    "# Reading all columns and calling value_counts()\n",
    "df = pd.read_csv(\"dailyrainfall/combined_data.csv\", index_col=0)\n",
    "df[\"model\"].value_counts()"
   ]
  },
  {
   "cell_type": "code",
   "execution_count": 89,
   "id": "0b9e9213-fe5f-4ed7-841d-cf91caa6ca53",
   "metadata": {},
   "outputs": [
    {
     "name": "stdout",
     "output_type": "stream",
     "text": [
      "CPU times: user 43 s, sys: 3.6 s, total: 46.6 s\n",
      "Wall time: 47.2 s\n"
     ]
    },
    {
     "data": {
      "text/plain": [
       "model           \n",
       "MPI-ESM1-2-HR       5154240\n",
       "TaiESM1             3541230\n",
       "NorESM2-MM          3541230\n",
       "CMCC-CM2-HR4        3541230\n",
       "CMCC-CM2-SR5        3541230\n",
       "CMCC-ESM2           3541230\n",
       "SAM0-UNICON         3541153\n",
       "FGOALS-f3-L         3219300\n",
       "GFDL-CM4            3219300\n",
       "GFDL-ESM4           3219300\n",
       "EC-Earth3-Veg-LR    3037320\n",
       "MRI-ESM2-0          3037320\n",
       "BCC-CSM2-MR         3035340\n",
       "MIROC6              2070900\n",
       "ACCESS-CM2          1932840\n",
       "ACCESS-ESM1-5       1610700\n",
       "INM-CM5-0           1609650\n",
       "INM-CM4-8           1609650\n",
       "KIOST-ESM           1287720\n",
       "FGOALS-g3           1287720\n",
       "MPI-ESM1-2-LR        966420\n",
       "NESM3                966420\n",
       "AWI-ESM-1-1-LR       966420\n",
       "MPI-ESM-1-2-HAM      966420\n",
       "NorESM2-LM           919800\n",
       "BCC-ESM1             551880\n",
       "CanESM5              551880\n",
       "dtype: int64"
      ]
     },
     "execution_count": 89,
     "metadata": {},
     "output_type": "execute_result"
    }
   ],
   "source": [
    "%%time\n",
    "# Reading only specific columns and calling value_counts()\n",
    "use_cols = ['time','model']\n",
    "df = pd.read_csv(\"dailyrainfall/combined_data.csv\", index_col=0, usecols=use_cols)\n",
    "df.value_counts()"
   ]
  },
  {
   "cell_type": "markdown",
   "id": "dd23cb80-cbb8-43a9-b0c6-be9e2a0e323c",
   "metadata": {},
   "source": [
    "### Reading in chunks"
   ]
  },
  {
   "cell_type": "code",
   "execution_count": 90,
   "id": "45f09ab7-95e4-4084-944b-1742d937d4dc",
   "metadata": {},
   "outputs": [
    {
     "name": "stdout",
     "output_type": "stream",
     "text": [
      "CPU times: user 59.7 s, sys: 12.3 s, total: 1min 12s\n",
      "Wall time: 1min 17s\n"
     ]
    },
    {
     "data": {
      "text/plain": [
       "MPI-ESM1-2-HR       5154240\n",
       "CMCC-CM2-HR4        3541230\n",
       "CMCC-ESM2           3541230\n",
       "CMCC-CM2-SR5        3541230\n",
       "NorESM2-MM          3541230\n",
       "TaiESM1             3541230\n",
       "SAM0-UNICON         3541153\n",
       "GFDL-ESM4           3219300\n",
       "FGOALS-f3-L         3219300\n",
       "GFDL-CM4            3219300\n",
       "MRI-ESM2-0          3037320\n",
       "EC-Earth3-Veg-LR    3037320\n",
       "BCC-CSM2-MR         3035340\n",
       "MIROC6              2070900\n",
       "ACCESS-CM2          1932840\n",
       "ACCESS-ESM1-5       1610700\n",
       "INM-CM4-8           1609650\n",
       "INM-CM5-0           1609650\n",
       "FGOALS-g3           1287720\n",
       "KIOST-ESM           1287720\n",
       "AWI-ESM-1-1-LR       966420\n",
       "MPI-ESM1-2-LR        966420\n",
       "NESM3                966420\n",
       "MPI-ESM-1-2-HAM      966420\n",
       "NorESM2-LM           919800\n",
       "BCC-ESM1             551880\n",
       "CanESM5              551880\n",
       "Name: model, dtype: int64"
      ]
     },
     "execution_count": 90,
     "metadata": {},
     "output_type": "execute_result"
    }
   ],
   "source": [
    "%%time\n",
    "df = pd.read_csv(\"dailyrainfall/combined_data.csv\", index_col=0)\n",
    "df[\"model\"].value_counts()"
   ]
  },
  {
   "cell_type": "code",
   "execution_count": 91,
   "id": "a856d5ae-12e1-43cf-a9c1-48ef94166bff",
   "metadata": {},
   "outputs": [
    {
     "name": "stdout",
     "output_type": "stream",
     "text": [
      "ACCESS-CM2          1932840\n",
      "ACCESS-ESM1-5       1610700\n",
      "AWI-ESM-1-1-LR       966420\n",
      "BCC-CSM2-MR         3035340\n",
      "BCC-ESM1             551880\n",
      "CMCC-CM2-HR4        3541230\n",
      "CMCC-CM2-SR5        3541230\n",
      "CMCC-ESM2           3541230\n",
      "CanESM5              551880\n",
      "EC-Earth3-Veg-LR    3037320\n",
      "FGOALS-f3-L         3219300\n",
      "FGOALS-g3           1287720\n",
      "GFDL-CM4            3219300\n",
      "GFDL-ESM4           3219300\n",
      "INM-CM4-8           1609650\n",
      "INM-CM5-0           1609650\n",
      "KIOST-ESM           1287720\n",
      "MIROC6              2070900\n",
      "MPI-ESM-1-2-HAM      966420\n",
      "MPI-ESM1-2-HR       5154240\n",
      "MPI-ESM1-2-LR        966420\n",
      "MRI-ESM2-0          3037320\n",
      "NESM3                966420\n",
      "NorESM2-LM           919800\n",
      "NorESM2-MM          3541230\n",
      "SAM0-UNICON         3541153\n",
      "TaiESM1             3541230\n",
      "dtype: int64\n",
      "CPU times: user 56.6 s, sys: 6.2 s, total: 1min 2s\n",
      "Wall time: 1min 2s\n"
     ]
    }
   ],
   "source": [
    "%%time\n",
    "counts = pd.Series(dtype=int)\n",
    "for chunk in pd.read_csv(\"dailyrainfall/combined_data.csv\", chunksize=1_000_000):\n",
    "    counts = counts.add(chunk[\"model\"].value_counts(), fill_value=0)\n",
    "#     print(counts.memory_usage())\n",
    "\n",
    "# print()\n",
    "# print(\"Final counts\")\n",
    "print(counts.astype(int))"
   ]
  },
  {
   "cell_type": "markdown",
   "id": "377dcd03-e14d-4f43-8f72-e9320e478a02",
   "metadata": {},
   "source": [
    "- In our case here ,the time taken to calculate the total value counts may not be that significant as reading the whole data into the memory and then performing the operation. \n",
    "- But in scenarios where the data cannot fit in the RAM, reading in chunks is the only option."
   ]
  },
  {
   "cell_type": "markdown",
   "id": "cde023a2-9ba7-4994-a01a-2b58239c0655",
   "metadata": {},
   "source": [
    "### Time comparison between machines after reducing memory usage"
   ]
  },
  {
   "cell_type": "markdown",
   "id": "127663bf-592f-4fa6-9c07-9b2422af3f61",
   "metadata": {},
   "source": [
    "Team Member | Operating System | RAM | Processor | Is SSD | EDA | Method of optimization |Time before optimization| Time after optimization\n",
    "-- | -- | -- | -- | -- | -- | -- | -- | -- \n",
    "Member 1 | MacOS Monterey  | 16Gb  | i5  | Yes | Describe | Type Conversion|9.12s | 9.33s\n",
    "Member 1 | MacOS Monterey  | 16Gb  | i5  | Yes | Value_counts | Reading specific columns| 1min 9s | 46.6s\n",
    "Member 1 | MacOS Monterey  | 16Gb  | i5  | Yes | Value_counts | Chunk processing| 1min 12s | 1min 2s\n",
    "Member 2 |macOS Big Sur 11.5.2|   8GB |  Apple M1 |    Yes | Describe | Type Conversion|  8.18s | 7.94s\n",
    "Member 2 |macOS Big Sur 11.5.2|   8GB |  Apple M1 |    Yes | Value_counts | Reading specific columns|  1min 5s | 51.4s\n",
    "Member 2 |macOS Big Sur 11.5.2|   8GB |  Apple M1 |    Yes | Value_counts | Chunk processing|  1min 5s | 49.1s\n",
    "Member 3 | Win 10 | 8Gb  | Ryzen 7  | Yes | Describe | Type Conversion|38.1s | 12.5s\n",
    "Member 3 | Win 10  | 8Gb  | Ryzen 7  | Yes | Value_counts | Reading specific columns| 2min 42s | 1min 36s\n",
    "Member 3 | Win 10  | 8Gb  | Ryzen 7  | Yes | Value_counts | Chunk processing| 2min 52s | 1min 32s\n",
    "Member 4 |   |   |   |   |  |  |  |  |"
   ]
  },
  {
   "cell_type": "markdown",
   "id": "5db42143-3654-4a2b-8aca-7d78e4f0b5fa",
   "metadata": {},
   "source": [
    "## Perform a simple EDA in R"
   ]
  },
  {
   "cell_type": "markdown",
   "id": "c912315e-8a5e-4ceb-909b-32893a2a9994",
   "metadata": {},
   "source": [
    "### Converting Python dataframe to parquet to read in R "
   ]
  },
  {
   "cell_type": "code",
   "execution_count": 3,
   "id": "d22ff1e1-9c68-4725-ad24-425431c3723f",
   "metadata": {},
   "outputs": [
    {
     "name": "stdout",
     "output_type": "stream",
     "text": [
      "CPU times: user 17.3 s, sys: 2.57 s, total: 19.8 s\n",
      "Wall time: 20 s\n"
     ]
    }
   ],
   "source": [
    "%%time\n",
    "df.to_parquet(\"dailyrainfall/combined_data.parquet\")"
   ]
  },
  {
   "cell_type": "code",
   "execution_count": 4,
   "id": "19f7582c-3fb6-4938-933a-1acda1fd7106",
   "metadata": {},
   "outputs": [
    {
     "name": "stderr",
     "output_type": "stream",
     "text": [
      "Warning message:\n",
      "In library(package, lib.loc = lib.loc, character.only = TRUE, logical.return = TRUE,  :\n",
      "  there is no package called ‘devtools’\n"
     ]
    }
   ],
   "source": [
    "%load_ext rpy2.ipython"
   ]
  },
  {
   "cell_type": "code",
   "execution_count": 18,
   "id": "e23aee65-489d-459a-ad25-824259c01eb5",
   "metadata": {},
   "outputs": [],
   "source": [
    "%%R\n",
    "library(dplyr)\n",
    "suppressMessages(library(arrow, warn.conflicts = FALSE))\n",
    "suppressMessages(library(dplyr, warn.conflicts = FALSE))"
   ]
  },
  {
   "cell_type": "markdown",
   "id": "7320358b-a630-4c81-b9d9-8d39cbc4eb91",
   "metadata": {},
   "source": [
    "### Reading parquet file in R"
   ]
  },
  {
   "cell_type": "code",
   "execution_count": 22,
   "id": "e6f06fc3-d553-4cad-8e9c-addd340990a9",
   "metadata": {},
   "outputs": [
    {
     "name": "stdout",
     "output_type": "stream",
     "text": [
      "CPU times: user 10.1 ms, sys: 14.7 ms, total: 24.8 ms\n",
      "Wall time: 35.8 ms\n"
     ]
    }
   ],
   "source": [
    "%%time\n",
    "%%R\n",
    "df_r <- open_dataset(\"dailyrainfall/combined_data.parquet\")"
   ]
  },
  {
   "cell_type": "markdown",
   "id": "71314f09-e717-4c73-80ba-e9a3e0f215bd",
   "metadata": {},
   "source": [
    "- We can observe that reading parquet file is way faster as compared to reading the csv.\n",
    "- This because of the following reasons :\n",
    "**Hatef - take it away ;) :D**"
   ]
  },
  {
   "cell_type": "markdown",
   "id": "dfa4e650-cc5f-4ea5-8762-30dff831875b",
   "metadata": {},
   "source": [
    "### Simple EDA for R "
   ]
  },
  {
   "cell_type": "code",
   "execution_count": 23,
   "id": "6af8c4d6-446a-4163-a090-68e46de9e11b",
   "metadata": {},
   "outputs": [
    {
     "name": "stdout",
     "output_type": "stream",
     "text": [
      "Table\n",
      "6 rows x 7 columns\n",
      "$lat_min <double>\n",
      "$lat_max <double>\n",
      "$lon_min <double>\n",
      "$lon_max <double>\n",
      "$rain (mm/day) <double>\n",
      "$model <string>\n",
      "$time <string>\n",
      "\n",
      "See $metadata for additional Schema metadata\n",
      "CPU times: user 7.44 s, sys: 8.29 s, total: 15.7 s\n",
      "Wall time: 9.64 s\n"
     ]
    }
   ],
   "source": [
    "%%time\n",
    "%%R\n",
    "head(df_r)"
   ]
  },
  {
   "cell_type": "code",
   "execution_count": 35,
   "id": "776bddb4-d201-4c60-ac50-9a23c10a2b6f",
   "metadata": {},
   "outputs": [
    {
     "name": "stdout",
     "output_type": "stream",
     "text": [
      "# A tibble: 27 × 2\n",
      "   model           count\n",
      "   <chr>           <int>\n",
      " 1 MPI-ESM1-2-HR 5154240\n",
      " 2 TaiESM1       3541230\n",
      " 3 NorESM2-MM    3541230\n",
      " 4 CMCC-ESM2     3541230\n",
      " 5 CMCC-CM2-SR5  3541230\n",
      " 6 CMCC-CM2-HR4  3541230\n",
      " 7 SAM0-UNICON   3541153\n",
      " 8 GFDL-ESM4     3219300\n",
      " 9 GFDL-CM4      3219300\n",
      "10 FGOALS-f3-L   3219300\n",
      "# … with 17 more rows\n",
      "CPU times: user 3.82 s, sys: 663 ms, total: 4.48 s\n",
      "Wall time: 2.16 s\n"
     ]
    }
   ],
   "source": [
    "%%time\n",
    "%%R\n",
    "df_r |> \n",
    "group_by(model) |> \n",
    "summarise(count = n()) |> \n",
    "arrange(desc(count)) |>\n",
    "ungroup() |> \n",
    "collect() "
   ]
  },
  {
   "cell_type": "code",
   "execution_count": null,
   "id": "f6708567-83b7-4f97-baad-5e6394b5dfed",
   "metadata": {},
   "outputs": [],
   "source": []
  }
 ],
 "metadata": {
  "kernelspec": {
   "display_name": "Python [conda env:525_2022]",
   "language": "python",
   "name": "conda-env-525_2022-py"
  },
  "language_info": {
   "codemirror_mode": {
    "name": "ipython",
    "version": 3
   },
   "file_extension": ".py",
   "mimetype": "text/x-python",
   "name": "python",
   "nbconvert_exporter": "python",
   "pygments_lexer": "ipython3",
   "version": "3.8.6"
  }
 },
 "nbformat": 4,
 "nbformat_minor": 5
}
