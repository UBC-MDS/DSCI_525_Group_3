{
 "cells": [
  {
   "cell_type": "code",
   "execution_count": 1,
   "id": "8a187325-03a3-40e6-8eb4-2791bd6b2ff0",
   "metadata": {},
   "outputs": [],
   "source": [
    "import re\n",
    "import os\n",
    "import glob\n",
    "import zipfile\n",
    "import requests\n",
    "from urllib.request import urlretrieve\n",
    "import json\n",
    "import pandas as pd"
   ]
  },
  {
   "cell_type": "markdown",
   "id": "99ca9f96-4429-41f6-9c30-5f59b7aa2579",
   "metadata": {},
   "source": [
    "# 3. Downloading the data"
   ]
  },
  {
   "cell_type": "markdown",
   "id": "8f32312d-d4b7-452b-b6ba-824ec4382141",
   "metadata": {},
   "source": [
    "## 1. Download the data from figshare "
   ]
  },
  {
   "cell_type": "code",
   "execution_count": 10,
   "id": "d6d82a00-b761-4924-b975-cbd9ebb53b42",
   "metadata": {},
   "outputs": [],
   "source": [
    "# Necessary metadata\n",
    "article_id = 14096681  # this is the unique identifier of the article on figshare\n",
    "url = f\"https://api.figshare.com/v2/articles/{article_id}\"\n",
    "headers = {\"Content-Type\": \"application/json\"}\n",
    "output_directory = \"figshareairline\""
   ]
  },
  {
   "cell_type": "code",
   "execution_count": 4,
   "id": "eea25313-1d5b-4020-9929-d48f7882bd29",
   "metadata": {},
   "outputs": [
    {
     "data": {
      "text/plain": [
       "[{'id': 26579150,\n",
       "  'name': 'daily_rainfall_2014.png',\n",
       "  'size': 58863,\n",
       "  'is_link_only': False,\n",
       "  'download_url': 'https://ndownloader.figshare.com/files/26579150',\n",
       "  'supplied_md5': 'fd32a2ffde300a31f8d63b1825d47e5e',\n",
       "  'computed_md5': 'fd32a2ffde300a31f8d63b1825d47e5e'},\n",
       " {'id': 26579171,\n",
       "  'name': 'environment.yml',\n",
       "  'size': 192,\n",
       "  'is_link_only': False,\n",
       "  'download_url': 'https://ndownloader.figshare.com/files/26579171',\n",
       "  'supplied_md5': '060b2020017eed93a1ee7dd8c65b2f34',\n",
       "  'computed_md5': '060b2020017eed93a1ee7dd8c65b2f34'},\n",
       " {'id': 26586554,\n",
       "  'name': 'README.md',\n",
       "  'size': 5422,\n",
       "  'is_link_only': False,\n",
       "  'download_url': 'https://ndownloader.figshare.com/files/26586554',\n",
       "  'supplied_md5': '61858c6cc0e6a6d6663a7e4c75bbd88c',\n",
       "  'computed_md5': '61858c6cc0e6a6d6663a7e4c75bbd88c'},\n",
       " {'id': 26766812,\n",
       "  'name': 'data.zip',\n",
       "  'size': 814041183,\n",
       "  'is_link_only': False,\n",
       "  'download_url': 'https://ndownloader.figshare.com/files/26766812',\n",
       "  'supplied_md5': 'b517383f76e77bd03755a63a8ff83ee9',\n",
       "  'computed_md5': 'b517383f76e77bd03755a63a8ff83ee9'},\n",
       " {'id': 26766815,\n",
       "  'name': 'get_data.py',\n",
       "  'size': 4113,\n",
       "  'is_link_only': False,\n",
       "  'download_url': 'https://ndownloader.figshare.com/files/26766815',\n",
       "  'supplied_md5': '7829028495fd9dec9680ea013474afa6',\n",
       "  'computed_md5': '7829028495fd9dec9680ea013474afa6'}]"
      ]
     },
     "execution_count": 4,
     "metadata": {},
     "output_type": "execute_result"
    }
   ],
   "source": [
    "response = requests.request(\"GET\", url, headers=headers)\n",
    "data = json.loads(response.text)  # this contains all the articles data, feel free to check it out\n",
    "files = data[\"files\"]             # this is just the data about the files, which is what we want\n",
    "files"
   ]
  },
  {
   "cell_type": "markdown",
   "id": "718bb21e-00f3-42f1-aa6e-adbd4ea5329e",
   "metadata": {},
   "source": [
    "## 2. Extract the zip file"
   ]
  },
  {
   "cell_type": "code",
   "execution_count": 5,
   "id": "de37d2e6-3fa6-4cdf-847d-90f7c2833d23",
   "metadata": {},
   "outputs": [
    {
     "name": "stdout",
     "output_type": "stream",
     "text": [
      "CPU times: user 5.49 s, sys: 3.71 s, total: 9.2 s\n",
      "Wall time: 1min 47s\n"
     ]
    }
   ],
   "source": [
    "%%time\n",
    "files_to_dl = [\"data.zip\"]  # feel free to add other files here\n",
    "for file in files:\n",
    "    if file[\"name\"] in files_to_dl:\n",
    "        os.makedirs(output_directory, exist_ok=True)\n",
    "        urlretrieve(file[\"download_url\"], output_directory + file[\"name\"])"
   ]
  },
  {
   "cell_type": "code",
   "execution_count": 13,
   "id": "c21ad8ec-7f0b-4876-9ae5-8e2884b348bd",
   "metadata": {},
   "outputs": [
    {
     "name": "stdout",
     "output_type": "stream",
     "text": [
      "CPU times: user 14.6 s, sys: 1.14 s, total: 15.8 s\n",
      "Wall time: 16.6 s\n"
     ]
    }
   ],
   "source": [
    "%%time\n",
    "with zipfile.ZipFile(os.path.join(output_directory, \"data.zip\"), 'r') as f:\n",
    "    f.extractall(output_directory + '/data')"
   ]
  },
  {
   "cell_type": "code",
   "execution_count": 14,
   "id": "03436e2a-4647-408c-a1ec-dea7562c865d",
   "metadata": {},
   "outputs": [
    {
     "name": "stdout",
     "output_type": "stream",
     "text": [
      "total 10540336\n",
      "-rw-r--r--   1 bananabook  staff   95376895 Mar 28 14:53 MPI-ESM-1-2-HAM_daily_rainfall_NSW.csv\n",
      "-rw-r--r--   1 bananabook  staff   94960113 Mar 28 14:53 AWI-ESM-1-1-LR_daily_rainfall_NSW.csv\n",
      "-rw-r--r--   1 bananabook  staff   82474546 Mar 28 14:53 NorESM2-LM_daily_rainfall_NSW.csv\n",
      "-rw-r--r--   1 bananabook  staff  127613760 Mar 28 14:53 ACCESS-CM2_daily_rainfall_NSW.csv\n",
      "-rw-r--r--   1 bananabook  staff  232118894 Mar 28 14:53 FGOALS-f3-L_daily_rainfall_NSW.csv\n",
      "-rw-r--r--   1 bananabook  staff  330360682 Mar 28 14:53 CMCC-CM2-HR4_daily_rainfall_NSW.csv\n",
      "-rw-r--r--   1 bananabook  staff  254009247 Mar 28 14:53 MRI-ESM2-0_daily_rainfall_NSW.csv\n",
      "-rw-r--r--   1 bananabook  staff  235661418 Mar 28 14:53 GFDL-CM4_daily_rainfall_NSW.csv\n",
      "-rw-r--r--   1 bananabook  staff  294260911 Mar 28 14:53 BCC-CSM2-MR_daily_rainfall_NSW.csv\n",
      "-rw-r--r--   1 bananabook  staff  295768615 Mar 28 14:53 EC-Earth3-Veg-LR_daily_rainfall_NSW.csv\n",
      "-rw-r--r--   1 bananabook  staff  328852379 Mar 28 14:53 CMCC-ESM2_daily_rainfall_NSW.csv\n",
      "-rw-r--r--   1 bananabook  staff   67784105 Mar 28 14:53 NESM3_daily_rainfall_NSW.csv\n",
      "-rw-r--r--   1 bananabook  staff   95640682 Mar 28 14:53 MPI-ESM1-2-LR_daily_rainfall_NSW.csv\n",
      "-rw-r--r--   1 bananabook  staff  114707410 Mar 28 14:53 ACCESS-ESM1-5_daily_rainfall_NSW.csv\n",
      "-rw-r--r--   1 bananabook  staff  116179272 Mar 28 14:53 FGOALS-g3_daily_rainfall_NSW.csv\n",
      "-rw-r--r--   1 bananabook  staff  102517965 Mar 28 14:53 INM-CM4-8_daily_rainfall_NSW.csv\n",
      "-rw-r--r--   1 bananabook  staff  515458033 Mar 28 14:53 MPI-ESM1-2-HR_daily_rainfall_NSW.csv\n",
      "-rw-r--r--   1 bananabook  staff  332813281 Mar 28 14:53 TaiESM1_daily_rainfall_NSW.csv\n",
      "-rw-r--r--   1 bananabook  staff  337555851 Mar 28 14:53 NorESM2-MM_daily_rainfall_NSW.csv\n",
      "-rw-r--r--   1 bananabook  staff  328787320 Mar 28 14:54 CMCC-CM2-SR5_daily_rainfall_NSW.csv\n",
      "-rw-r--r--   1 bananabook  staff     952202 Mar 28 14:54 observed_daily_rainfall_SYD.csv\n",
      "-rw-r--r--   1 bananabook  staff   93829697 Mar 28 14:54 KIOST-ESM_daily_rainfall_NSW.csv\n",
      "-rw-r--r--   1 bananabook  staff  102692289 Mar 28 14:54 INM-CM5-0_daily_rainfall_NSW.csv\n",
      "-rw-r--r--   1 bananabook  staff  206822938 Mar 28 14:54 MIROC6_daily_rainfall_NSW.csv\n",
      "-rw-r--r--   1 bananabook  staff   55224437 Mar 28 14:54 BCC-ESM1_daily_rainfall_NSW.csv\n",
      "-rw-r--r--   1 bananabook  staff  124586961 Mar 28 14:54 GFDL-ESM4_daily_rainfall_NSW.csv\n",
      "-rw-r--r--   1 bananabook  staff   46286371 Mar 28 14:54 CanESM5_daily_rainfall_NSW.csv\n",
      "-rw-r--r--   1 bananabook  staff  333489879 Mar 28 14:54 SAM0-UNICON_daily_rainfall_NSW.csv\n",
      "drwxr-xr-x  30 bananabook  staff        960 Mar 28 14:54 \u001b[1m\u001b[34m__MACOSX\u001b[m\u001b[m/\n"
     ]
    }
   ],
   "source": [
    "%ls -ltr figshareairline/data"
   ]
  },
  {
   "cell_type": "code",
   "execution_count": 4,
   "id": "450e2850-d6ba-42a4-b94f-99f75c5b3e68",
   "metadata": {},
   "outputs": [
    {
     "name": "stdout",
     "output_type": "stream",
     "text": [
      "CPU times: user 995 ms, sys: 136 ms, total: 1.13 s\n",
      "Wall time: 1.21 s\n"
     ]
    },
    {
     "data": {
      "text/html": [
       "<div>\n",
       "<style scoped>\n",
       "    .dataframe tbody tr th:only-of-type {\n",
       "        vertical-align: middle;\n",
       "    }\n",
       "\n",
       "    .dataframe tbody tr th {\n",
       "        vertical-align: top;\n",
       "    }\n",
       "\n",
       "    .dataframe thead th {\n",
       "        text-align: right;\n",
       "    }\n",
       "</style>\n",
       "<table border=\"1\" class=\"dataframe\">\n",
       "  <thead>\n",
       "    <tr style=\"text-align: right;\">\n",
       "      <th></th>\n",
       "      <th>time</th>\n",
       "      <th>lat_min</th>\n",
       "      <th>lat_max</th>\n",
       "      <th>lon_min</th>\n",
       "      <th>lon_max</th>\n",
       "      <th>rain (mm/day)</th>\n",
       "    </tr>\n",
       "  </thead>\n",
       "  <tbody>\n",
       "    <tr>\n",
       "      <th>0</th>\n",
       "      <td>1889-01-01 12:00:00</td>\n",
       "      <td>-36.25</td>\n",
       "      <td>-35.00</td>\n",
       "      <td>140.625</td>\n",
       "      <td>142.50</td>\n",
       "      <td>3.293256e-13</td>\n",
       "    </tr>\n",
       "    <tr>\n",
       "      <th>1</th>\n",
       "      <td>1889-01-02 12:00:00</td>\n",
       "      <td>-36.25</td>\n",
       "      <td>-35.00</td>\n",
       "      <td>140.625</td>\n",
       "      <td>142.50</td>\n",
       "      <td>0.000000e+00</td>\n",
       "    </tr>\n",
       "    <tr>\n",
       "      <th>2</th>\n",
       "      <td>1889-01-03 12:00:00</td>\n",
       "      <td>-36.25</td>\n",
       "      <td>-35.00</td>\n",
       "      <td>140.625</td>\n",
       "      <td>142.50</td>\n",
       "      <td>0.000000e+00</td>\n",
       "    </tr>\n",
       "    <tr>\n",
       "      <th>3</th>\n",
       "      <td>1889-01-04 12:00:00</td>\n",
       "      <td>-36.25</td>\n",
       "      <td>-35.00</td>\n",
       "      <td>140.625</td>\n",
       "      <td>142.50</td>\n",
       "      <td>0.000000e+00</td>\n",
       "    </tr>\n",
       "    <tr>\n",
       "      <th>4</th>\n",
       "      <td>1889-01-05 12:00:00</td>\n",
       "      <td>-36.25</td>\n",
       "      <td>-35.00</td>\n",
       "      <td>140.625</td>\n",
       "      <td>142.50</td>\n",
       "      <td>1.047658e-02</td>\n",
       "    </tr>\n",
       "    <tr>\n",
       "      <th>...</th>\n",
       "      <td>...</td>\n",
       "      <td>...</td>\n",
       "      <td>...</td>\n",
       "      <td>...</td>\n",
       "      <td>...</td>\n",
       "      <td>...</td>\n",
       "    </tr>\n",
       "    <tr>\n",
       "      <th>1932835</th>\n",
       "      <td>2014-12-27 12:00:00</td>\n",
       "      <td>-30.00</td>\n",
       "      <td>-28.75</td>\n",
       "      <td>151.875</td>\n",
       "      <td>153.75</td>\n",
       "      <td>2.951144e-02</td>\n",
       "    </tr>\n",
       "    <tr>\n",
       "      <th>1932836</th>\n",
       "      <td>2014-12-28 12:00:00</td>\n",
       "      <td>-30.00</td>\n",
       "      <td>-28.75</td>\n",
       "      <td>151.875</td>\n",
       "      <td>153.75</td>\n",
       "      <td>2.257118e-01</td>\n",
       "    </tr>\n",
       "    <tr>\n",
       "      <th>1932837</th>\n",
       "      <td>2014-12-29 12:00:00</td>\n",
       "      <td>-30.00</td>\n",
       "      <td>-28.75</td>\n",
       "      <td>151.875</td>\n",
       "      <td>153.75</td>\n",
       "      <td>1.204670e-01</td>\n",
       "    </tr>\n",
       "    <tr>\n",
       "      <th>1932838</th>\n",
       "      <td>2014-12-30 12:00:00</td>\n",
       "      <td>-30.00</td>\n",
       "      <td>-28.75</td>\n",
       "      <td>151.875</td>\n",
       "      <td>153.75</td>\n",
       "      <td>2.632404e-02</td>\n",
       "    </tr>\n",
       "    <tr>\n",
       "      <th>1932839</th>\n",
       "      <td>2014-12-31 12:00:00</td>\n",
       "      <td>-30.00</td>\n",
       "      <td>-28.75</td>\n",
       "      <td>151.875</td>\n",
       "      <td>153.75</td>\n",
       "      <td>3.431610e-02</td>\n",
       "    </tr>\n",
       "  </tbody>\n",
       "</table>\n",
       "<p>1932840 rows × 6 columns</p>\n",
       "</div>"
      ],
      "text/plain": [
       "                        time  lat_min  lat_max  lon_min  lon_max  \\\n",
       "0        1889-01-01 12:00:00   -36.25   -35.00  140.625   142.50   \n",
       "1        1889-01-02 12:00:00   -36.25   -35.00  140.625   142.50   \n",
       "2        1889-01-03 12:00:00   -36.25   -35.00  140.625   142.50   \n",
       "3        1889-01-04 12:00:00   -36.25   -35.00  140.625   142.50   \n",
       "4        1889-01-05 12:00:00   -36.25   -35.00  140.625   142.50   \n",
       "...                      ...      ...      ...      ...      ...   \n",
       "1932835  2014-12-27 12:00:00   -30.00   -28.75  151.875   153.75   \n",
       "1932836  2014-12-28 12:00:00   -30.00   -28.75  151.875   153.75   \n",
       "1932837  2014-12-29 12:00:00   -30.00   -28.75  151.875   153.75   \n",
       "1932838  2014-12-30 12:00:00   -30.00   -28.75  151.875   153.75   \n",
       "1932839  2014-12-31 12:00:00   -30.00   -28.75  151.875   153.75   \n",
       "\n",
       "         rain (mm/day)  \n",
       "0         3.293256e-13  \n",
       "1         0.000000e+00  \n",
       "2         0.000000e+00  \n",
       "3         0.000000e+00  \n",
       "4         1.047658e-02  \n",
       "...                ...  \n",
       "1932835   2.951144e-02  \n",
       "1932836   2.257118e-01  \n",
       "1932837   1.204670e-01  \n",
       "1932838   2.632404e-02  \n",
       "1932839   3.431610e-02  \n",
       "\n",
       "[1932840 rows x 6 columns]"
      ]
     },
     "execution_count": 4,
     "metadata": {},
     "output_type": "execute_result"
    }
   ],
   "source": [
    "%%time\n",
    "### just listing to get an idea how individual file looks like\n",
    "df = pd.read_csv(\n",
    "    \"figshareairline/data/ACCESS-CM2_daily_rainfall_NSW.csv\", dtype={\"TailNum\": \"str\"}\n",
    ")\n",
    "df"
   ]
  },
  {
   "cell_type": "markdown",
   "id": "4f5e0c10-6e87-45d1-8fa1-7bda521e8260",
   "metadata": {},
   "source": [
    "# 4. Combining data CSVs"
   ]
  },
  {
   "cell_type": "markdown",
   "id": "b1cfc97d-547f-4d11-bf74-c7f9bdc6dceb",
   "metadata": {},
   "source": [
    "## 1. Combine data CSVs into a single CSV using pandas\n",
    "## 2. Add an extra column called “model” that identifies the model\n",
    "## 3. Compare run times"
   ]
  },
  {
   "cell_type": "code",
   "execution_count": 23,
   "id": "7a6db57a-9fee-498b-865f-fdf502b0d19b",
   "metadata": {},
   "outputs": [
    {
     "data": {
      "text/plain": [
       "'ACCESS-CM2'"
      ]
     },
     "execution_count": 23,
     "metadata": {},
     "output_type": "execute_result"
    }
   ],
   "source": [
    "file = \"figshareairline/data/ACCESS-CM2_daily_rainfall_NSW.csv\"\n",
    "re.findall(r'(?<=\\/)[a-zA-Z0-9-]*(?=\\_)', file)[0]"
   ]
  },
  {
   "cell_type": "code",
   "execution_count": 24,
   "id": "bb9d809f-ba27-40b9-8db0-b0f347a309d8",
   "metadata": {},
   "outputs": [
    {
     "name": "stdout",
     "output_type": "stream",
     "text": [
      "CPU times: user 5min 52s, sys: 9.79 s, total: 6min 1s\n",
      "Wall time: 6min 8s\n"
     ]
    }
   ],
   "source": [
    "%%time\n",
    "## here we are using a normal python way for merging the data \n",
    "import pandas as pd\n",
    "\n",
    "files = glob.glob('figshareairline/data/*.csv')\n",
    "df = pd.concat((pd.read_csv(file, index_col=0)\n",
    "                .assign(model=re.findall(r'(?<=\\/)[a-zA-Z0-9-]*(?=\\_)', file)[0])\n",
    "                for file in files)\n",
    "              )\n",
    "df.to_csv(\"figshareairline/combined_data.csv\")"
   ]
  },
  {
   "cell_type": "markdown",
   "id": "16576367-7d06-4fa0-823a-ea0a9f1bfb77",
   "metadata": {},
   "source": [
    "# 5. Load the combined CSV to memory and perform a simple EDA"
   ]
  },
  {
   "cell_type": "markdown",
   "id": "b3cb0a95-1730-4ea7-8393-7817eab290d7",
   "metadata": {},
   "source": [
    "## 1.1 Read original csv run time and memory usage"
   ]
  },
  {
   "cell_type": "code",
   "execution_count": 3,
   "id": "3352185a-5760-427b-b3f8-e95ad31cc2d6",
   "metadata": {},
   "outputs": [
    {
     "name": "stdout",
     "output_type": "stream",
     "text": [
      "CPU times: user 56.9 s, sys: 6.91 s, total: 1min 3s\n",
      "Wall time: 1min 9s\n"
     ]
    },
    {
     "data": {
      "text/html": [
       "<div>\n",
       "<style scoped>\n",
       "    .dataframe tbody tr th:only-of-type {\n",
       "        vertical-align: middle;\n",
       "    }\n",
       "\n",
       "    .dataframe tbody tr th {\n",
       "        vertical-align: top;\n",
       "    }\n",
       "\n",
       "    .dataframe thead th {\n",
       "        text-align: right;\n",
       "    }\n",
       "</style>\n",
       "<table border=\"1\" class=\"dataframe\">\n",
       "  <thead>\n",
       "    <tr style=\"text-align: right;\">\n",
       "      <th></th>\n",
       "      <th>lat_min</th>\n",
       "      <th>lat_max</th>\n",
       "      <th>lon_min</th>\n",
       "      <th>lon_max</th>\n",
       "      <th>rain (mm/day)</th>\n",
       "      <th>model</th>\n",
       "    </tr>\n",
       "    <tr>\n",
       "      <th>time</th>\n",
       "      <th></th>\n",
       "      <th></th>\n",
       "      <th></th>\n",
       "      <th></th>\n",
       "      <th></th>\n",
       "      <th></th>\n",
       "    </tr>\n",
       "  </thead>\n",
       "  <tbody>\n",
       "    <tr>\n",
       "      <th>1889-01-01 12:00:00</th>\n",
       "      <td>-35.439867</td>\n",
       "      <td>-33.574619</td>\n",
       "      <td>141.5625</td>\n",
       "      <td>143.4375</td>\n",
       "      <td>4.244226e-13</td>\n",
       "      <td>MPI-ESM-1-2-HAM</td>\n",
       "    </tr>\n",
       "    <tr>\n",
       "      <th>1889-01-02 12:00:00</th>\n",
       "      <td>-35.439867</td>\n",
       "      <td>-33.574619</td>\n",
       "      <td>141.5625</td>\n",
       "      <td>143.4375</td>\n",
       "      <td>4.217326e-13</td>\n",
       "      <td>MPI-ESM-1-2-HAM</td>\n",
       "    </tr>\n",
       "    <tr>\n",
       "      <th>1889-01-03 12:00:00</th>\n",
       "      <td>-35.439867</td>\n",
       "      <td>-33.574619</td>\n",
       "      <td>141.5625</td>\n",
       "      <td>143.4375</td>\n",
       "      <td>4.498125e-13</td>\n",
       "      <td>MPI-ESM-1-2-HAM</td>\n",
       "    </tr>\n",
       "    <tr>\n",
       "      <th>1889-01-04 12:00:00</th>\n",
       "      <td>-35.439867</td>\n",
       "      <td>-33.574619</td>\n",
       "      <td>141.5625</td>\n",
       "      <td>143.4375</td>\n",
       "      <td>4.251282e-13</td>\n",
       "      <td>MPI-ESM-1-2-HAM</td>\n",
       "    </tr>\n",
       "    <tr>\n",
       "      <th>1889-01-05 12:00:00</th>\n",
       "      <td>-35.439867</td>\n",
       "      <td>-33.574619</td>\n",
       "      <td>141.5625</td>\n",
       "      <td>143.4375</td>\n",
       "      <td>4.270161e-13</td>\n",
       "      <td>MPI-ESM-1-2-HAM</td>\n",
       "    </tr>\n",
       "  </tbody>\n",
       "</table>\n",
       "</div>"
      ],
      "text/plain": [
       "                       lat_min    lat_max   lon_min   lon_max  rain (mm/day)  \\\n",
       "time                                                                           \n",
       "1889-01-01 12:00:00 -35.439867 -33.574619  141.5625  143.4375   4.244226e-13   \n",
       "1889-01-02 12:00:00 -35.439867 -33.574619  141.5625  143.4375   4.217326e-13   \n",
       "1889-01-03 12:00:00 -35.439867 -33.574619  141.5625  143.4375   4.498125e-13   \n",
       "1889-01-04 12:00:00 -35.439867 -33.574619  141.5625  143.4375   4.251282e-13   \n",
       "1889-01-05 12:00:00 -35.439867 -33.574619  141.5625  143.4375   4.270161e-13   \n",
       "\n",
       "                               model  \n",
       "time                                  \n",
       "1889-01-01 12:00:00  MPI-ESM-1-2-HAM  \n",
       "1889-01-02 12:00:00  MPI-ESM-1-2-HAM  \n",
       "1889-01-03 12:00:00  MPI-ESM-1-2-HAM  \n",
       "1889-01-04 12:00:00  MPI-ESM-1-2-HAM  \n",
       "1889-01-05 12:00:00  MPI-ESM-1-2-HAM  "
      ]
     },
     "execution_count": 3,
     "metadata": {},
     "output_type": "execute_result"
    }
   ],
   "source": [
    "%%time\n",
    "import pandas as pd\n",
    "df = pd.read_csv(\"figshareairline/combined_data.csv\", index_col=0)\n",
    "df.head()"
   ]
  },
  {
   "cell_type": "code",
   "execution_count": 4,
   "id": "e7e2c548-f806-4639-a26f-604850a0eefd",
   "metadata": {},
   "outputs": [
    {
     "name": "stdout",
     "output_type": "stream",
     "text": [
      "<class 'pandas.core.frame.DataFrame'>\n",
      "Index: 62513863 entries, 1889-01-01 12:00:00 to 2014-12-31 12:00:00\n",
      "Data columns (total 6 columns):\n",
      " #   Column         Dtype  \n",
      "---  ------         -----  \n",
      " 0   lat_min        float64\n",
      " 1   lat_max        float64\n",
      " 2   lon_min        float64\n",
      " 3   lon_max        float64\n",
      " 4   rain (mm/day)  float64\n",
      " 5   model          object \n",
      "dtypes: float64(5), object(1)\n",
      "memory usage: 3.3+ GB\n"
     ]
    }
   ],
   "source": [
    "%%time\n",
    "df.info()"
   ]
  },
  {
   "cell_type": "markdown",
   "id": "fd972de3-fca5-4129-9db3-17bd1177eddf",
   "metadata": {},
   "source": [
    "## 1.2 Change data type to reduce memory usage"
   ]
  },
  {
   "cell_type": "code",
   "execution_count": 36,
   "id": "e4fbfbf4-9e56-4619-8a19-22795a0e9227",
   "metadata": {},
   "outputs": [
    {
     "name": "stdout",
     "output_type": "stream",
     "text": [
      "CPU times: user 42.5 s, sys: 8.54 s, total: 51 s\n",
      "Wall time: 1min 6s\n"
     ]
    },
    {
     "data": {
      "text/html": [
       "<div>\n",
       "<style scoped>\n",
       "    .dataframe tbody tr th:only-of-type {\n",
       "        vertical-align: middle;\n",
       "    }\n",
       "\n",
       "    .dataframe tbody tr th {\n",
       "        vertical-align: top;\n",
       "    }\n",
       "\n",
       "    .dataframe thead th {\n",
       "        text-align: right;\n",
       "    }\n",
       "</style>\n",
       "<table border=\"1\" class=\"dataframe\">\n",
       "  <thead>\n",
       "    <tr style=\"text-align: right;\">\n",
       "      <th></th>\n",
       "      <th>lat_min</th>\n",
       "      <th>lat_max</th>\n",
       "      <th>lon_min</th>\n",
       "      <th>lon_max</th>\n",
       "      <th>rain (mm/day)</th>\n",
       "      <th>model</th>\n",
       "    </tr>\n",
       "    <tr>\n",
       "      <th>time</th>\n",
       "      <th></th>\n",
       "      <th></th>\n",
       "      <th></th>\n",
       "      <th></th>\n",
       "      <th></th>\n",
       "      <th></th>\n",
       "    </tr>\n",
       "  </thead>\n",
       "  <tbody>\n",
       "    <tr>\n",
       "      <th>1889-01-01 12:00:00</th>\n",
       "      <td>-35.439865</td>\n",
       "      <td>-33.574619</td>\n",
       "      <td>141.5625</td>\n",
       "      <td>143.4375</td>\n",
       "      <td>4.244226e-13</td>\n",
       "      <td>MPI-ESM-1-2-HAM</td>\n",
       "    </tr>\n",
       "    <tr>\n",
       "      <th>1889-01-02 12:00:00</th>\n",
       "      <td>-35.439865</td>\n",
       "      <td>-33.574619</td>\n",
       "      <td>141.5625</td>\n",
       "      <td>143.4375</td>\n",
       "      <td>4.217326e-13</td>\n",
       "      <td>MPI-ESM-1-2-HAM</td>\n",
       "    </tr>\n",
       "    <tr>\n",
       "      <th>1889-01-03 12:00:00</th>\n",
       "      <td>-35.439865</td>\n",
       "      <td>-33.574619</td>\n",
       "      <td>141.5625</td>\n",
       "      <td>143.4375</td>\n",
       "      <td>4.498125e-13</td>\n",
       "      <td>MPI-ESM-1-2-HAM</td>\n",
       "    </tr>\n",
       "    <tr>\n",
       "      <th>1889-01-04 12:00:00</th>\n",
       "      <td>-35.439865</td>\n",
       "      <td>-33.574619</td>\n",
       "      <td>141.5625</td>\n",
       "      <td>143.4375</td>\n",
       "      <td>4.251282e-13</td>\n",
       "      <td>MPI-ESM-1-2-HAM</td>\n",
       "    </tr>\n",
       "    <tr>\n",
       "      <th>1889-01-05 12:00:00</th>\n",
       "      <td>-35.439865</td>\n",
       "      <td>-33.574619</td>\n",
       "      <td>141.5625</td>\n",
       "      <td>143.4375</td>\n",
       "      <td>4.270161e-13</td>\n",
       "      <td>MPI-ESM-1-2-HAM</td>\n",
       "    </tr>\n",
       "  </tbody>\n",
       "</table>\n",
       "</div>"
      ],
      "text/plain": [
       "                       lat_min    lat_max   lon_min   lon_max  rain (mm/day)  \\\n",
       "time                                                                           \n",
       "1889-01-01 12:00:00 -35.439865 -33.574619  141.5625  143.4375   4.244226e-13   \n",
       "1889-01-02 12:00:00 -35.439865 -33.574619  141.5625  143.4375   4.217326e-13   \n",
       "1889-01-03 12:00:00 -35.439865 -33.574619  141.5625  143.4375   4.498125e-13   \n",
       "1889-01-04 12:00:00 -35.439865 -33.574619  141.5625  143.4375   4.251282e-13   \n",
       "1889-01-05 12:00:00 -35.439865 -33.574619  141.5625  143.4375   4.270161e-13   \n",
       "\n",
       "                               model  \n",
       "time                                  \n",
       "1889-01-01 12:00:00  MPI-ESM-1-2-HAM  \n",
       "1889-01-02 12:00:00  MPI-ESM-1-2-HAM  \n",
       "1889-01-03 12:00:00  MPI-ESM-1-2-HAM  \n",
       "1889-01-04 12:00:00  MPI-ESM-1-2-HAM  \n",
       "1889-01-05 12:00:00  MPI-ESM-1-2-HAM  "
      ]
     },
     "execution_count": 36,
     "metadata": {},
     "output_type": "execute_result"
    }
   ],
   "source": [
    "%%time\n",
    "\n",
    "# 5. change data type\n",
    "df_float32 = pd.read_csv(\"figshareairline/combined_data.csv\", index_col=0).astype(\n",
    "    \"float32\", errors=\"ignore\"\n",
    ")\n",
    "df_float32.head()"
   ]
  },
  {
   "cell_type": "code",
   "execution_count": 37,
   "id": "e455cb70-1e14-4f2b-b16b-76998e77659f",
   "metadata": {},
   "outputs": [
    {
     "name": "stdout",
     "output_type": "stream",
     "text": [
      "<class 'pandas.core.frame.DataFrame'>\n",
      "Index: 62513863 entries, 1889-01-01 12:00:00 to 2014-12-31 12:00:00\n",
      "Data columns (total 6 columns):\n",
      " #   Column         Dtype  \n",
      "---  ------         -----  \n",
      " 0   lat_min        float32\n",
      " 1   lat_max        float32\n",
      " 2   lon_min        float32\n",
      " 3   lon_max        float32\n",
      " 4   rain (mm/day)  float32\n",
      " 5   model          object \n",
      "dtypes: float32(5), object(1)\n",
      "memory usage: 2.1+ GB\n"
     ]
    }
   ],
   "source": [
    "df_float32.info()"
   ]
  },
  {
   "cell_type": "code",
   "execution_count": 50,
   "id": "0f60d210-e7cc-456d-9637-c1f23cc3d411",
   "metadata": {},
   "outputs": [
    {
     "name": "stdout",
     "output_type": "stream",
     "text": [
      "Memory usage with float64: 3534.59 MB\n",
      "Memory usage with float32: 2250.50 MB\n"
     ]
    }
   ],
   "source": [
    "print(f\"Memory usage with float64: {df.memory_usage().sum() / 1e6:.2f} MB\")\n",
    "print(f\"Memory usage with float32: {df_float32.astype('float32', errors='ignore').memory_usage().sum() / 1e6:.2f} MB\")"
   ]
  },
  {
   "cell_type": "markdown",
   "id": "a08d2ffb-fc1c-4f82-968d-dab87e524ac0",
   "metadata": {},
   "source": [
    "## 1.3 Load just the column to reduce memory usage"
   ]
  },
  {
   "cell_type": "code",
   "execution_count": 51,
   "id": "7c807c13-ac71-41b0-aa27-dd78a2b329f9",
   "metadata": {},
   "outputs": [
    {
     "name": "stdout",
     "output_type": "stream",
     "text": [
      "CPU times: user 23.6 s, sys: 2.58 s, total: 26.2 s\n",
      "Wall time: 27.5 s\n"
     ]
    },
    {
     "data": {
      "text/html": [
       "<div>\n",
       "<style scoped>\n",
       "    .dataframe tbody tr th:only-of-type {\n",
       "        vertical-align: middle;\n",
       "    }\n",
       "\n",
       "    .dataframe tbody tr th {\n",
       "        vertical-align: top;\n",
       "    }\n",
       "\n",
       "    .dataframe thead th {\n",
       "        text-align: right;\n",
       "    }\n",
       "</style>\n",
       "<table border=\"1\" class=\"dataframe\">\n",
       "  <thead>\n",
       "    <tr style=\"text-align: right;\">\n",
       "      <th></th>\n",
       "      <th>0</th>\n",
       "    </tr>\n",
       "    <tr>\n",
       "      <th>model</th>\n",
       "      <th></th>\n",
       "    </tr>\n",
       "  </thead>\n",
       "  <tbody>\n",
       "    <tr>\n",
       "      <th>MPI-ESM1-2-HR</th>\n",
       "      <td>5154240</td>\n",
       "    </tr>\n",
       "    <tr>\n",
       "      <th>TaiESM1</th>\n",
       "      <td>3541230</td>\n",
       "    </tr>\n",
       "    <tr>\n",
       "      <th>CMCC-CM2-HR4</th>\n",
       "      <td>3541230</td>\n",
       "    </tr>\n",
       "    <tr>\n",
       "      <th>CMCC-CM2-SR5</th>\n",
       "      <td>3541230</td>\n",
       "    </tr>\n",
       "    <tr>\n",
       "      <th>CMCC-ESM2</th>\n",
       "      <td>3541230</td>\n",
       "    </tr>\n",
       "    <tr>\n",
       "      <th>NorESM2-MM</th>\n",
       "      <td>3541230</td>\n",
       "    </tr>\n",
       "    <tr>\n",
       "      <th>SAM0-UNICON</th>\n",
       "      <td>3541153</td>\n",
       "    </tr>\n",
       "    <tr>\n",
       "      <th>FGOALS-f3-L</th>\n",
       "      <td>3219300</td>\n",
       "    </tr>\n",
       "    <tr>\n",
       "      <th>GFDL-CM4</th>\n",
       "      <td>3219300</td>\n",
       "    </tr>\n",
       "    <tr>\n",
       "      <th>GFDL-ESM4</th>\n",
       "      <td>3219300</td>\n",
       "    </tr>\n",
       "    <tr>\n",
       "      <th>EC-Earth3-Veg-LR</th>\n",
       "      <td>3037320</td>\n",
       "    </tr>\n",
       "    <tr>\n",
       "      <th>MRI-ESM2-0</th>\n",
       "      <td>3037320</td>\n",
       "    </tr>\n",
       "    <tr>\n",
       "      <th>BCC-CSM2-MR</th>\n",
       "      <td>3035340</td>\n",
       "    </tr>\n",
       "    <tr>\n",
       "      <th>MIROC6</th>\n",
       "      <td>2070900</td>\n",
       "    </tr>\n",
       "    <tr>\n",
       "      <th>ACCESS-CM2</th>\n",
       "      <td>1932840</td>\n",
       "    </tr>\n",
       "    <tr>\n",
       "      <th>ACCESS-ESM1-5</th>\n",
       "      <td>1610700</td>\n",
       "    </tr>\n",
       "    <tr>\n",
       "      <th>INM-CM4-8</th>\n",
       "      <td>1609650</td>\n",
       "    </tr>\n",
       "    <tr>\n",
       "      <th>INM-CM5-0</th>\n",
       "      <td>1609650</td>\n",
       "    </tr>\n",
       "    <tr>\n",
       "      <th>KIOST-ESM</th>\n",
       "      <td>1287720</td>\n",
       "    </tr>\n",
       "    <tr>\n",
       "      <th>FGOALS-g3</th>\n",
       "      <td>1287720</td>\n",
       "    </tr>\n",
       "    <tr>\n",
       "      <th>MPI-ESM-1-2-HAM</th>\n",
       "      <td>966420</td>\n",
       "    </tr>\n",
       "    <tr>\n",
       "      <th>MPI-ESM1-2-LR</th>\n",
       "      <td>966420</td>\n",
       "    </tr>\n",
       "    <tr>\n",
       "      <th>NESM3</th>\n",
       "      <td>966420</td>\n",
       "    </tr>\n",
       "    <tr>\n",
       "      <th>AWI-ESM-1-1-LR</th>\n",
       "      <td>966420</td>\n",
       "    </tr>\n",
       "    <tr>\n",
       "      <th>NorESM2-LM</th>\n",
       "      <td>919800</td>\n",
       "    </tr>\n",
       "    <tr>\n",
       "      <th>CanESM5</th>\n",
       "      <td>551880</td>\n",
       "    </tr>\n",
       "    <tr>\n",
       "      <th>BCC-ESM1</th>\n",
       "      <td>551880</td>\n",
       "    </tr>\n",
       "    <tr>\n",
       "      <th>observed</th>\n",
       "      <td>46020</td>\n",
       "    </tr>\n",
       "  </tbody>\n",
       "</table>\n",
       "</div>"
      ],
      "text/plain": [
       "                        0\n",
       "model                    \n",
       "MPI-ESM1-2-HR     5154240\n",
       "TaiESM1           3541230\n",
       "CMCC-CM2-HR4      3541230\n",
       "CMCC-CM2-SR5      3541230\n",
       "CMCC-ESM2         3541230\n",
       "NorESM2-MM        3541230\n",
       "SAM0-UNICON       3541153\n",
       "FGOALS-f3-L       3219300\n",
       "GFDL-CM4          3219300\n",
       "GFDL-ESM4         3219300\n",
       "EC-Earth3-Veg-LR  3037320\n",
       "MRI-ESM2-0        3037320\n",
       "BCC-CSM2-MR       3035340\n",
       "MIROC6            2070900\n",
       "ACCESS-CM2        1932840\n",
       "ACCESS-ESM1-5     1610700\n",
       "INM-CM4-8         1609650\n",
       "INM-CM5-0         1609650\n",
       "KIOST-ESM         1287720\n",
       "FGOALS-g3         1287720\n",
       "MPI-ESM-1-2-HAM    966420\n",
       "MPI-ESM1-2-LR      966420\n",
       "NESM3              966420\n",
       "AWI-ESM-1-1-LR     966420\n",
       "NorESM2-LM         919800\n",
       "CanESM5            551880\n",
       "BCC-ESM1           551880\n",
       "observed            46020"
      ]
     },
     "execution_count": 51,
     "metadata": {},
     "output_type": "execute_result"
    }
   ],
   "source": [
    "%%time\n",
    "\n",
    "# 5. Load just the column that we want\n",
    "use_cols=['model']\n",
    "df_models = pd.read_csv(\"figshareairline/combined_data.csv\", usecols=use_cols)\n",
    "df_model_counts = pd.DataFrame(df_models.value_counts())\n",
    "df_model_counts"
   ]
  },
  {
   "cell_type": "code",
   "execution_count": 52,
   "id": "31b37967-1a79-4cdd-9d5b-6cc80ee130c0",
   "metadata": {},
   "outputs": [
    {
     "name": "stdout",
     "output_type": "stream",
     "text": [
      "Memory usage with all the columns: 3534.59 MB\n",
      "Memory usage with just the column: 500.11 MB\n"
     ]
    }
   ],
   "source": [
    "print(f\"Memory usage with all the columns: {df.memory_usage().sum() / 1e6:.2f} MB\")\n",
    "print(f\"Memory usage with just the column: {df_models.memory_usage().sum() / 1e6:.2f} MB\")"
   ]
  },
  {
   "cell_type": "code",
   "execution_count": 13,
   "id": "1c11e868-6897-4f98-9b65-e782b2a040a6",
   "metadata": {},
   "outputs": [
    {
     "data": {
      "text/html": [
       "\n",
       "<div id=\"altair-viz-3ad78b11c4d84f81b90723336418c936\"></div>\n",
       "<script type=\"text/javascript\">\n",
       "  var VEGA_DEBUG = (typeof VEGA_DEBUG == \"undefined\") ? {} : VEGA_DEBUG;\n",
       "  (function(spec, embedOpt){\n",
       "    let outputDiv = document.currentScript.previousElementSibling;\n",
       "    if (outputDiv.id !== \"altair-viz-3ad78b11c4d84f81b90723336418c936\") {\n",
       "      outputDiv = document.getElementById(\"altair-viz-3ad78b11c4d84f81b90723336418c936\");\n",
       "    }\n",
       "    const paths = {\n",
       "      \"vega\": \"https://cdn.jsdelivr.net/npm//vega@5?noext\",\n",
       "      \"vega-lib\": \"https://cdn.jsdelivr.net/npm//vega-lib?noext\",\n",
       "      \"vega-lite\": \"https://cdn.jsdelivr.net/npm//vega-lite@4.17.0?noext\",\n",
       "      \"vega-embed\": \"https://cdn.jsdelivr.net/npm//vega-embed@6?noext\",\n",
       "    };\n",
       "\n",
       "    function maybeLoadScript(lib, version) {\n",
       "      var key = `${lib.replace(\"-\", \"\")}_version`;\n",
       "      return (VEGA_DEBUG[key] == version) ?\n",
       "        Promise.resolve(paths[lib]) :\n",
       "        new Promise(function(resolve, reject) {\n",
       "          var s = document.createElement('script');\n",
       "          document.getElementsByTagName(\"head\")[0].appendChild(s);\n",
       "          s.async = true;\n",
       "          s.onload = () => {\n",
       "            VEGA_DEBUG[key] = version;\n",
       "            return resolve(paths[lib]);\n",
       "          };\n",
       "          s.onerror = () => reject(`Error loading script: ${paths[lib]}`);\n",
       "          s.src = paths[lib];\n",
       "        });\n",
       "    }\n",
       "\n",
       "    function showError(err) {\n",
       "      outputDiv.innerHTML = `<div class=\"error\" style=\"color:red;\">${err}</div>`;\n",
       "      throw err;\n",
       "    }\n",
       "\n",
       "    function displayChart(vegaEmbed) {\n",
       "      vegaEmbed(outputDiv, spec, embedOpt)\n",
       "        .catch(err => showError(`Javascript Error: ${err.message}<br>This usually means there's a typo in your chart specification. See the javascript console for the full traceback.`));\n",
       "    }\n",
       "\n",
       "    if(typeof define === \"function\" && define.amd) {\n",
       "      requirejs.config({paths});\n",
       "      require([\"vega-embed\"], displayChart, err => showError(`Error loading script: ${err.message}`));\n",
       "    } else {\n",
       "      maybeLoadScript(\"vega\", \"5\")\n",
       "        .then(() => maybeLoadScript(\"vega-lite\", \"4.17.0\"))\n",
       "        .then(() => maybeLoadScript(\"vega-embed\", \"6\"))\n",
       "        .catch(showError)\n",
       "        .then(() => displayChart(vegaEmbed));\n",
       "    }\n",
       "  })({\"config\": {\"view\": {\"continuousWidth\": 400, \"continuousHeight\": 300}}, \"data\": {\"name\": \"data-ebdeb4c0fa2fc69c13946b09b9e1054a\"}, \"mark\": \"bar\", \"encoding\": {\"x\": {\"field\": \"index\", \"type\": \"nominal\"}, \"y\": {\"field\": \"model\", \"type\": \"quantitative\"}}, \"$schema\": \"https://vega.github.io/schema/vega-lite/v4.17.0.json\", \"datasets\": {\"data-ebdeb4c0fa2fc69c13946b09b9e1054a\": [{\"index\": \"MPI-ESM1-2-HR\", \"model\": 5154240}, {\"index\": \"NorESM2-MM\", \"model\": 3541230}, {\"index\": \"CMCC-CM2-SR5\", \"model\": 3541230}, {\"index\": \"TaiESM1\", \"model\": 3541230}, {\"index\": \"CMCC-ESM2\", \"model\": 3541230}, {\"index\": \"CMCC-CM2-HR4\", \"model\": 3541230}, {\"index\": \"SAM0-UNICON\", \"model\": 3541153}, {\"index\": \"GFDL-CM4\", \"model\": 3219300}, {\"index\": \"FGOALS-f3-L\", \"model\": 3219300}, {\"index\": \"GFDL-ESM4\", \"model\": 3219300}, {\"index\": \"MRI-ESM2-0\", \"model\": 3037320}, {\"index\": \"EC-Earth3-Veg-LR\", \"model\": 3037320}, {\"index\": \"BCC-CSM2-MR\", \"model\": 3035340}, {\"index\": \"MIROC6\", \"model\": 2070900}, {\"index\": \"ACCESS-CM2\", \"model\": 1932840}, {\"index\": \"ACCESS-ESM1-5\", \"model\": 1610700}, {\"index\": \"INM-CM5-0\", \"model\": 1609650}, {\"index\": \"INM-CM4-8\", \"model\": 1609650}, {\"index\": \"KIOST-ESM\", \"model\": 1287720}, {\"index\": \"FGOALS-g3\", \"model\": 1287720}, {\"index\": \"AWI-ESM-1-1-LR\", \"model\": 966420}, {\"index\": \"MPI-ESM1-2-LR\", \"model\": 966420}, {\"index\": \"NESM3\", \"model\": 966420}, {\"index\": \"MPI-ESM-1-2-HAM\", \"model\": 966420}, {\"index\": \"NorESM2-LM\", \"model\": 919800}, {\"index\": \"BCC-ESM1\", \"model\": 551880}, {\"index\": \"CanESM5\", \"model\": 551880}, {\"index\": \"observed\", \"model\": 46020}]}}, {\"mode\": \"vega-lite\"});\n",
       "</script>"
      ],
      "text/plain": [
       "alt.Chart(...)"
      ]
     },
     "execution_count": 13,
     "metadata": {},
     "output_type": "execute_result"
    }
   ],
   "source": [
    "import altair as alt\n",
    "alt.Chart(df_model_counts).mark_bar().encode(\n",
    "    x = 'index',\n",
    "    y = 'model')"
   ]
  },
  {
   "cell_type": "code",
   "execution_count": 53,
   "id": "45bfad0d-992c-4278-b6e1-5e829cf908ea",
   "metadata": {},
   "outputs": [
    {
     "name": "stdout",
     "output_type": "stream",
     "text": [
      "CPU times: user 1.97 s, sys: 1.9 s, total: 3.87 s\n",
      "Wall time: 5.02 s\n"
     ]
    },
    {
     "data": {
      "text/html": [
       "<div>\n",
       "<style scoped>\n",
       "    .dataframe tbody tr th:only-of-type {\n",
       "        vertical-align: middle;\n",
       "    }\n",
       "\n",
       "    .dataframe tbody tr th {\n",
       "        vertical-align: top;\n",
       "    }\n",
       "\n",
       "    .dataframe thead th {\n",
       "        text-align: right;\n",
       "    }\n",
       "</style>\n",
       "<table border=\"1\" class=\"dataframe\">\n",
       "  <thead>\n",
       "    <tr style=\"text-align: right;\">\n",
       "      <th></th>\n",
       "      <th>index</th>\n",
       "      <th>rain (mm/day)</th>\n",
       "    </tr>\n",
       "  </thead>\n",
       "  <tbody>\n",
       "    <tr>\n",
       "      <th>0</th>\n",
       "      <td>count</td>\n",
       "      <td>5.929456e+07</td>\n",
       "    </tr>\n",
       "    <tr>\n",
       "      <th>1</th>\n",
       "      <td>mean</td>\n",
       "      <td>1.901827e+00</td>\n",
       "    </tr>\n",
       "    <tr>\n",
       "      <th>2</th>\n",
       "      <td>std</td>\n",
       "      <td>5.588275e+00</td>\n",
       "    </tr>\n",
       "    <tr>\n",
       "      <th>3</th>\n",
       "      <td>min</td>\n",
       "      <td>-3.807373e-12</td>\n",
       "    </tr>\n",
       "    <tr>\n",
       "      <th>4</th>\n",
       "      <td>25%</td>\n",
       "      <td>3.876672e-06</td>\n",
       "    </tr>\n",
       "    <tr>\n",
       "      <th>5</th>\n",
       "      <td>50%</td>\n",
       "      <td>6.161705e-02</td>\n",
       "    </tr>\n",
       "    <tr>\n",
       "      <th>6</th>\n",
       "      <td>75%</td>\n",
       "      <td>1.021314e+00</td>\n",
       "    </tr>\n",
       "    <tr>\n",
       "      <th>7</th>\n",
       "      <td>max</td>\n",
       "      <td>4.329395e+02</td>\n",
       "    </tr>\n",
       "  </tbody>\n",
       "</table>\n",
       "</div>"
      ],
      "text/plain": [
       "   index  rain (mm/day)\n",
       "0  count   5.929456e+07\n",
       "1   mean   1.901827e+00\n",
       "2    std   5.588275e+00\n",
       "3    min  -3.807373e-12\n",
       "4    25%   3.876672e-06\n",
       "5    50%   6.161705e-02\n",
       "6    75%   1.021314e+00\n",
       "7    max   4.329395e+02"
      ]
     },
     "execution_count": 53,
     "metadata": {},
     "output_type": "execute_result"
    }
   ],
   "source": [
    "%%time\n",
    "df_rain = df[[\"rain (mm/day)\"]].describe().reset_index()\n",
    "df_rain"
   ]
  },
  {
   "cell_type": "markdown",
   "id": "372d398b-a90c-4f4a-8796-1da53c1edbcc",
   "metadata": {},
   "source": [
    "# 6. Perform a simple EDA in R"
   ]
  },
  {
   "cell_type": "markdown",
   "id": "7283928b-5473-4862-b192-ae2342928360",
   "metadata": {},
   "source": [
    "## 1. Pick an approach to transfer the dataframe from python to R. \n",
    "- Parquet"
   ]
  },
  {
   "cell_type": "code",
   "execution_count": 18,
   "id": "f7e8fe0e-0961-4d03-9444-5d7b7d1a3ec0",
   "metadata": {},
   "outputs": [
    {
     "name": "stdout",
     "output_type": "stream",
     "text": [
      "CPU times: user 19.1 s, sys: 5.32 s, total: 24.4 s\n",
      "Wall time: 25.7 s\n"
     ]
    }
   ],
   "source": [
    "%%time\n",
    "df.to_parquet(\"figshareairline/combined_data.parquet\")"
   ]
  },
  {
   "cell_type": "code",
   "execution_count": 27,
   "id": "70f53a15-a7ce-4d6c-a331-123cbf0f4fc8",
   "metadata": {},
   "outputs": [
    {
     "name": "stdout",
     "output_type": "stream",
     "text": [
      "The rpy2.ipython extension is already loaded. To reload it, use:\n",
      "  %reload_ext rpy2.ipython\n"
     ]
    }
   ],
   "source": [
    "%load_ext rpy2.ipython"
   ]
  },
  {
   "cell_type": "code",
   "execution_count": 59,
   "id": "c0055317-03b9-4807-baba-0a7a10d32b46",
   "metadata": {},
   "outputs": [],
   "source": [
    "%%R\n",
    "suppressMessages(library(arrow, warn.conflicts = FALSE))\n",
    "suppressMessages(library(dplyr, warn.conflicts = FALSE))"
   ]
  },
  {
   "cell_type": "code",
   "execution_count": 61,
   "id": "ec768a87-71ae-4a85-849e-dbb17f6a7cc8",
   "metadata": {},
   "outputs": [
    {
     "name": "stdout",
     "output_type": "stream",
     "text": [
      "CPU times: user 22 ms, sys: 14 ms, total: 36 ms\n",
      "Wall time: 57.5 ms\n"
     ]
    }
   ],
   "source": [
    "%%time\n",
    "%%R\n",
    "ds <- open_dataset(\"figshareairline/combined_data.parquet\")"
   ]
  },
  {
   "cell_type": "code",
   "execution_count": 63,
   "id": "adab9faf-fb0d-4880-99aa-de4f2b767d63",
   "metadata": {},
   "outputs": [
    {
     "name": "stdout",
     "output_type": "stream",
     "text": [
      "Table\n",
      "6 rows x 7 columns\n",
      "$lat_min <double>\n",
      "$lat_max <double>\n",
      "$lon_min <double>\n",
      "$lon_max <double>\n",
      "$rain (mm/day) <double>\n",
      "$model <string>\n",
      "$time <string>\n",
      "\n",
      "See $metadata for additional Schema metadata\n",
      "CPU times: user 4.06 s, sys: 4.45 s, total: 8.51 s\n",
      "Wall time: 6.46 s\n"
     ]
    }
   ],
   "source": [
    "%%time\n",
    "%%R\n",
    "\n",
    "head(ds)"
   ]
  },
  {
   "cell_type": "markdown",
   "id": "7910723a-0ac0-4c3f-825e-cba5a8cdabcf",
   "metadata": {},
   "source": [
    "## 2. Performs simple EDA in R"
   ]
  },
  {
   "cell_type": "code",
   "execution_count": 64,
   "id": "edc0fe15-93cb-4fff-9975-c0ba02f52d54",
   "metadata": {},
   "outputs": [
    {
     "name": "stdout",
     "output_type": "stream",
     "text": [
      "Classes 'FileSystemDataset', 'Dataset', 'ArrowObject', 'R6' <FileSystemDataset>\n",
      "  Inherits from: <Dataset>\n",
      "  Public:\n",
      "    .:xp:.: externalptr\n",
      "    .class_title: function () \n",
      "    clone: function (deep = FALSE) \n",
      "    files: active binding\n",
      "    filesystem: active binding\n",
      "    format: active binding\n",
      "    initialize: function (xp) \n",
      "    invalidate: function () \n",
      "    metadata: active binding\n",
      "    NewScan: function () \n",
      "    num_cols: active binding\n",
      "    num_rows: active binding\n",
      "    pointer: function () \n",
      "    print: function (...) \n",
      "    schema: active binding\n",
      "    set_pointer: function (xp) \n",
      "    ToString: function () \n",
      "    type: active binding \n",
      "CPU times: user 14.3 ms, sys: 20.5 ms, total: 34.8 ms\n",
      "Wall time: 60.2 ms\n"
     ]
    }
   ],
   "source": [
    "%%time\n",
    "%%R\n",
    "\n",
    "str(ds)"
   ]
  },
  {
   "cell_type": "code",
   "execution_count": 67,
   "id": "71794549-e7e3-48a8-9e04-0b68bec796ea",
   "metadata": {},
   "outputs": [
    {
     "name": "stdout",
     "output_type": "stream",
     "text": [
      "[1] 62513863        7\n",
      "CPU times: user 12.9 ms, sys: 15.7 ms, total: 28.5 ms\n",
      "Wall time: 50.2 ms\n"
     ]
    }
   ],
   "source": [
    "%%time\n",
    "%%R\n",
    "\n",
    "dim(ds)"
   ]
  },
  {
   "cell_type": "code",
   "execution_count": null,
   "id": "d179195c-924f-4fb5-9288-b3600bb4545f",
   "metadata": {},
   "outputs": [],
   "source": []
  }
 ],
 "metadata": {
  "kernelspec": {
   "display_name": "Python [conda env:525_2022]",
   "language": "python",
   "name": "conda-env-525_2022-py"
  },
  "language_info": {
   "codemirror_mode": {
    "name": "ipython",
    "version": 3
   },
   "file_extension": ".py",
   "mimetype": "text/x-python",
   "name": "python",
   "nbconvert_exporter": "python",
   "pygments_lexer": "ipython3",
   "version": "3.8.6"
  }
 },
 "nbformat": 4,
 "nbformat_minor": 5
}
